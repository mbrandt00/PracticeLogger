{
 "cells": [
  {
   "cell_type": "code",
   "execution_count": 1,
   "metadata": {},
   "outputs": [
    {
     "name": "stderr",
     "output_type": "stream",
     "text": [
      "/Users/michaelbrandt/personal/PracticeLogger/data_ingest/.venv/lib/python3.12/site-packages/tqdm/auto.py:21: TqdmWarning: IProgress not found. Please update jupyter and ipywidgets. See https://ipywidgets.readthedocs.io/en/stable/user_install.html\n",
      "  from .autonotebook import tqdm as notebook_tqdm\n"
     ]
    }
   ],
   "source": [
    "import json\n",
    "from imslp_scraping import get_all_composer_pieces, get_composer_url\n",
    "from pieces import create_piece\n",
    "from ydata_profiling import ProfileReport\n",
    "import pyarrow\n",
    "\n",
    "import pandas as pd\n",
    "import numpy as np\n",
    "import polars as pl\n",
    "def piece_to_dict(piece):\n",
    "    piece_dict = vars(piece).copy()\n",
    "    piece_dict[\"movements\"] = json.dumps([vars(m) for m in piece.movements])\n",
    "    return piece_dict\n"
   ]
  },
  {
   "cell_type": "code",
   "execution_count": 2,
   "metadata": {},
   "outputs": [
    {
     "name": "stdout",
     "output_type": "stream",
     "text": [
      "Piece(work_name='Scherzo No.1', composer_name='Chopin, Frédéric', catalogue_desc_str='Op.20', catalogue_type='Op', catalogue_number=20, catalogue_number_secondary=None, catalogue_id=None, composition_year=1833, composition_year_string='1833', key_signature='bminor', movements=[], sub_piece_type=None, sub_piece_count=None, instrumentation=['piano'], nickname=None, piece_style='romantic', imslp_url='https://imslp.org/wiki/Scherzo_No.1%2C_Op.20_(Chopin%2C_Fr%C3%A9d%C3%A9ric)', wikipedia_url='http://en.wikipedia.org/wiki/Scherzo_No._1_(Chopin)')\n",
      "Piece(work_name='Variations sur un air national allemande', composer_name='Chopin, Frédéric', catalogue_desc_str='B.14', catalogue_type='B', catalogue_number=14, catalogue_number_secondary=None, catalogue_id=None, composition_year=1826, composition_year_string='1826-27', key_signature='e', movements=[], sub_piece_type=None, sub_piece_count=None, instrumentation=['piano'], nickname='Introduction and Variation on the German Air \"Der Schweizerbub\"', piece_style='romantic', imslp_url='https://imslp.org/wiki/Variations_sur_un_air_national_allemand%2C_B.14_(Chopin%2C_Fr%C3%A9d%C3%A9ric)', wikipedia_url=None)\n",
      "Piece(work_name='Rondo', composer_name='Chopin, Frédéric', catalogue_desc_str='Op.1', catalogue_type='Op', catalogue_number=1, catalogue_number_secondary=None, catalogue_id=None, composition_year=1825, composition_year_string='1825', key_signature='cminor', movements=[], sub_piece_type=None, sub_piece_count=None, instrumentation=['piano'], nickname='Adieu à Varsovie', piece_style='romantic', imslp_url='https://imslp.org/wiki/Rondo_in_C_minor%2C_Op.1_(Chopin%2C_Fr%C3%A9d%C3%A9ric)', wikipedia_url='http://en.wikipedia.org/wiki/Rondo_in_C_minor_(Chopin)')\n",
      "Piece(work_name='Polonaise', composer_name='Chopin, Frédéric', catalogue_desc_str='Op.53', catalogue_type='Op', catalogue_number=53, catalogue_number_secondary=None, catalogue_id=None, composition_year=1842, composition_year_string='1842', key_signature='aflat', movements=[], sub_piece_type=None, sub_piece_count=None, instrumentation=['piano'], nickname='Héroique Polonaise', piece_style='romantic', imslp_url='https://imslp.org/wiki/Polonaise_in_A-flat_major%2C_Op.53_(Chopin%2C_Fr%C3%A9d%C3%A9ric)', wikipedia_url='http://en.wikipedia.org/wiki/Polonaise_in_A-flat_major,_Op._53_(Chopin)')\n",
      "Piece(work_name='Rondo', composer_name='Chopin, Frédéric', catalogue_desc_str='Op.73', catalogue_type='Op', catalogue_number=73, catalogue_number_secondary=None, catalogue_id=None, composition_year=1828, composition_year_string='1828', key_signature='c', movements=[], sub_piece_type=None, sub_piece_count=None, instrumentation=['2 pianos'], nickname=None, piece_style='romantic', imslp_url='https://imslp.org/wiki/Rondo_in_C_major%2C_Op.73_(Chopin%2C_Fr%C3%A9d%C3%A9ric)', wikipedia_url='http://en.wikipedia.org/wiki/Rondo_in_C_major_(Chopin)')\n",
      "Piece(work_name='Grande valse brillante', composer_name='Chopin, Frédéric', catalogue_desc_str='Op.18', catalogue_type='Op', catalogue_number=18, catalogue_number_secondary=None, catalogue_id=None, composition_year=1833, composition_year_string='1833', key_signature='eflat', movements=[], sub_piece_type='waltz', sub_piece_count=1, instrumentation=['piano'], nickname=None, piece_style='romantic', imslp_url='https://imslp.org/wiki/Grande_valse_brillante%2C_Op.18_(Chopin%2C_Fr%C3%A9d%C3%A9ric)', wikipedia_url='http://en.wikipedia.org/wiki/Grande_valse_brillante_in_E_flat_major_(Chopin)')\n"
     ]
    },
    {
     "name": "stderr",
     "output_type": "stream",
     "text": [
      "WARNING:root:Title for movement malformed, skipping: (Monatsbericht(1835), p.116)\n"
     ]
    },
    {
     "name": "stdout",
     "output_type": "stream",
     "text": [
      "Piece(work_name='Mazurkas', composer_name='Chopin, Frédéric', catalogue_desc_str='Op.24', catalogue_type='Op', catalogue_number=24, catalogue_number_secondary=None, catalogue_id=None, composition_year=1834, composition_year_string='1834-35', key_signature=None, movements=[Movement(title='Lento', number=1, key_signature='gminor', download_url='https://imslp.org/wiki/Special:ImagefromIndex/859581'), Movement(title='Allegro non troppo', number=2, key_signature='c', download_url='https://imslp.org/wiki/Special:ImagefromIndex/859582'), Movement(title='Moderato con anima', number=3, key_signature='aflat', download_url='https://imslp.org/wiki/Special:ImagefromIndex/859583'), Movement(title='Moderato', number=4, key_signature='bflatminor', download_url='https://imslp.org/wiki/Special:ImagefromIndex/859583')], sub_piece_type='pieces', sub_piece_count=4, instrumentation=['piano'], nickname=None, piece_style='romantic', imslp_url='https://imslp.org/wiki/Mazurkas%2C_Op.24_(Chopin%2C_Fr%C3%A9d%C3%A9ric)', wikipedia_url='http://en.wikipedia.org/wiki/Mazurkas,_Op._24_(Chopin)')\n",
      "Piece(work_name='Mazurka', composer_name='Chopin, Frédéric', catalogue_desc_str='B.71', catalogue_type='B', catalogue_number=71, catalogue_number_secondary=None, catalogue_id=None, composition_year=1832, composition_year_string='1832', key_signature='d', movements=[], sub_piece_type='mazurka', sub_piece_count=1, instrumentation=['piano'], nickname=None, piece_style='romantic', imslp_url='https://imslp.org/wiki/Mazurka_in_D_major%2C_B.71_(Chopin%2C_Fr%C3%A9d%C3%A9ric)', wikipedia_url=None)\n",
      "Piece(work_name='Mazurka', composer_name='Chopin, Frédéric', catalogue_desc_str='B.134, Op.42B, Dbop.42B', catalogue_type='B', catalogue_number=None, catalogue_number_secondary=None, catalogue_id=None, composition_year=1839, composition_year_string='1839-41', key_signature='aminor', movements=[], sub_piece_type=None, sub_piece_count=None, instrumentation=['piano'], nickname=None, piece_style='romantic', imslp_url='https://imslp.org/wiki/Mazurka_in_A_minor%2C_B.134_(Chopin%2C_Fr%C3%A9d%C3%A9ric)', wikipedia_url=None)\n",
      "Piece(work_name='Waltzes', composer_name='Chopin, Frédéric', catalogue_desc_str='Op.69', catalogue_type='Op', catalogue_number=69, catalogue_number_secondary=None, catalogue_id=None, composition_year=1835, composition_year_string='1835 (No.1), 1829 (No.2)', key_signature=None, movements=[Movement(title='Lento', number=1, key_signature='aflat', download_url='https://imslp.org/wiki/Special:ImagefromIndex/127853'), Movement(title='Moderato', number=2, key_signature='bminor', download_url='https://imslp.org/wiki/Special:ImagefromIndex/127862')], sub_piece_type='waltzes', sub_piece_count=2, instrumentation=['piano'], nickname=None, piece_style='romantic', imslp_url='https://imslp.org/wiki/Waltzes%2C_Op.69_(Chopin%2C_Fr%C3%A9d%C3%A9ric)', wikipedia_url='http://en.wikipedia.org/wiki/Waltz_in_B_minor,_Op._69,_No._2_(Chopin)')\n",
      "Piece(work_name='Waltz', composer_name='Chopin, Frédéric', catalogue_desc_str='B.150\\xa0; CT 224', catalogue_type='B', catalogue_number=150, catalogue_number_secondary=None, catalogue_id=None, composition_year=1847, composition_year_string='1847-49', key_signature='aminor', movements=[], sub_piece_type='waltz', sub_piece_count=1, instrumentation=['piano'], nickname='Valse', piece_style='romantic', imslp_url='https://imslp.org/wiki/Waltz_in_A_minor%2C_B.150_(Chopin%2C_Fr%C3%A9d%C3%A9ric)', wikipedia_url='http://en.wikipedia.org/wiki/Waltz_in_A_minor_(Chopin)')\n",
      "Piece(work_name='Mazurkas', composer_name='Chopin, Frédéric', catalogue_desc_str='Op.56', catalogue_type='Op', catalogue_number=56, catalogue_number_secondary=None, catalogue_id=None, composition_year=1843, composition_year_string='1843', key_signature=None, movements=[Movement(title='Allegro non tanto', number=1, key_signature='b', download_url=None), Movement(title='Vivace', number=2, key_signature='c', download_url=None), Movement(title='Moderato', number=3, key_signature='cminor', download_url=None)], sub_piece_type='pieces', sub_piece_count=3, instrumentation=['piano'], nickname=None, piece_style='romantic', imslp_url='https://imslp.org/wiki/Mazurkas%2C_Op.56_(Chopin%2C_Fr%C3%A9d%C3%A9ric)', wikipedia_url='http://en.wikipedia.org/wiki/Mazurkas,_Op._56_(Chopin)')\n",
      "Piece(work_name='Impromptu No.2', composer_name='Chopin, Frédéric', catalogue_desc_str='Op.36', catalogue_type='Op', catalogue_number=36, catalogue_number_secondary=None, catalogue_id=None, composition_year=1838, composition_year_string='1838-39', key_signature='fsharp', movements=[], sub_piece_type=None, sub_piece_count=None, instrumentation=['piano'], nickname=None, piece_style='romantic', imslp_url='https://imslp.org/wiki/Impromptu_No.2%2C_Op.36_(Chopin%2C_Fr%C3%A9d%C3%A9ric)', wikipedia_url='http://en.wikipedia.org/wiki/Impromptu_No._2_(Chopin)')\n",
      "Piece(work_name='Rondo à la mazur', composer_name='Chopin, Frédéric', catalogue_desc_str='Op.5\\xa0; Paderewski XII/2\\xa0; Turlo 193', catalogue_type='Op', catalogue_number=5, catalogue_number_secondary=None, catalogue_id=None, composition_year=1825, composition_year_string='1825 or 1826', key_signature='f', movements=[], sub_piece_type=None, sub_piece_count=None, instrumentation=['piano'], nickname=None, piece_style='romantic', imslp_url='https://imslp.org/wiki/Rondo_%C3%A0_la_mazur%2C_Op.5_(Chopin%2C_Fr%C3%A9d%C3%A9ric)', wikipedia_url='http://en.wikipedia.org/wiki/Rondo_%C3%A0_la_mazur')\n"
     ]
    },
    {
     "name": "stderr",
     "output_type": "stream",
     "text": [
      "WARNING:root:No valid key signature found in line: 1. Vivace2. Vivo, ma non troppo3. Mazurka in F minor4. Presto5. Vivo\n"
     ]
    },
    {
     "name": "stdout",
     "output_type": "stream",
     "text": [
      "Piece(work_name='Mazurkas', composer_name='Chopin, Frédéric', catalogue_desc_str='Op.7\\xa0; CT 55-59', catalogue_type='Op', catalogue_number=7, catalogue_number_secondary=None, catalogue_id=None, composition_year=1824, composition_year_string='1824-31', key_signature=None, movements=[Movement(title='Vivace', number=1, key_signature='bflat', download_url=None), Movement(title='Vivo, ma non troppo', number=2, key_signature='aminor', download_url=None), Movement(title='Mazurka (no tempo indication)', number=3, key_signature='fminor', download_url=None), Movement(title='Presto', number=4, key_signature='aflat', download_url=None), Movement(title='Vivo ,senza fine*', number=5, key_signature='c', download_url=None), Movement(title='Vivace', number=1, key_signature=None, download_url=None)], sub_piece_type='pieces', sub_piece_count=5, instrumentation=['piano'], nickname=None, piece_style='romantic', imslp_url='https://imslp.org/wiki/Mazurkas%2C_Op.7_(Chopin%2C_Fr%C3%A9d%C3%A9ric)', wikipedia_url='http://en.wikipedia.org/wiki/Mazurkas,_Op._7_(Chopin)')\n",
      "Piece(work_name='Mazurkas', composer_name='Chopin, Frédéric', catalogue_desc_str='Op.30\\xa0; CT 68-71', catalogue_type='Op', catalogue_number=30, catalogue_number_secondary=None, catalogue_id=None, composition_year=1835, composition_year_string='1835-37', key_signature=None, movements=[Movement(title='Allegretto non tanto', number=1, key_signature='cminor', download_url=None), Movement(title='Allegretto', number=2, key_signature='bminor', download_url='https://imslp.org/wiki/Special:ImagefromIndex/799717'), Movement(title='Allegro non troppo', number=3, key_signature='dflat', download_url='https://imslp.org/wiki/Special:ImagefromIndex/800080'), Movement(title='Allegretto', number=4, key_signature='csharpminor', download_url='https://imslp.org/wiki/Special:ImagefromIndex/799717')], sub_piece_type='pieces', sub_piece_count=4, instrumentation=['piano'], nickname=None, piece_style='romantic', imslp_url='https://imslp.org/wiki/Mazurkas%2C_Op.30_(Chopin%2C_Fr%C3%A9d%C3%A9ric)', wikipedia_url='http://en.wikipedia.org/wiki/Mazurkas,_Op._30_(Chopin)')\n",
      "Piece(work_name='Waltz', composer_name='Chopin, Frédéric', catalogue_desc_str='Op.42', catalogue_type='Op', catalogue_number=42, catalogue_number_secondary=None, catalogue_id=None, composition_year=1840, composition_year_string='1840', key_signature='aflat', movements=[], sub_piece_type='waltz', sub_piece_count=1, instrumentation=['piano'], nickname=None, piece_style='romantic', imslp_url='https://imslp.org/wiki/Waltz_in_A-flat_major%2C_Op.42_(Chopin%2C_Fr%C3%A9d%C3%A9ric)', wikipedia_url='http://en.wikipedia.org/wiki/Waltz_in_A-flat_major,_Op._42_(Chopin)')\n",
      "Piece(work_name='Mazurka', composer_name='Chopin, Frédéric', catalogue_desc_str='B.85', catalogue_type='B', catalogue_number=85, catalogue_number_secondary=None, catalogue_id=None, composition_year=1834, composition_year_string='1834 (July)', key_signature='aflat', movements=[], sub_piece_type=None, sub_piece_count=None, instrumentation=['piano'], nickname=None, piece_style='romantic', imslp_url='https://imslp.org/wiki/Mazurka_in_A-flat_major%2C_B.85_(Chopin%2C_Fr%C3%A9d%C3%A9ric)', wikipedia_url=None)\n",
      "Piece(work_name='Variations brillantes pour le pianoforte sur le rondeau favori \"Je vends des scapulaires\" de Ludovic de Hérold et Halevy', composer_name='Chopin, Frédéric', catalogue_desc_str='Op.12', catalogue_type='Op', catalogue_number=12, catalogue_number_secondary=None, catalogue_id=None, composition_year=1833, composition_year_string='1833', key_signature='bflat', movements=[], sub_piece_type=None, sub_piece_count=None, instrumentation=['piano'], nickname=None, piece_style='romantic', imslp_url='https://imslp.org/wiki/Variations_brillantes%2C_Op.12_(Chopin%2C_Fr%C3%A9d%C3%A9ric)', wikipedia_url='http://en.wikipedia.org/wiki/ja:%E8%8F%AF%E9%BA%97%E3%81%AA%E3%82%8B%E5%A4%89%E5%A5%8F%E6%9B%B2_(%E3%82%B7%E3%83%A7%E3%83%91%E3%83%B3)')\n",
      "Piece(work_name='Fugue', composer_name='Chopin, Frédéric', catalogue_desc_str='B.144', catalogue_type='B', catalogue_number=144, catalogue_number_secondary=None, catalogue_id=None, composition_year=1841, composition_year_string='1841', key_signature='aminor', movements=[], sub_piece_type=None, sub_piece_count=None, instrumentation=['piano'], nickname=None, piece_style='romantic', imslp_url='https://imslp.org/wiki/Fugue_in_A_minor%2C_B.144_(Chopin%2C_Fr%C3%A9d%C3%A9ric)', wikipedia_url=None)\n",
      "Piece(work_name='Nocturnes', composer_name='Chopin, Frédéric', catalogue_desc_str='Op.55\\xa0; CT 122, 123', catalogue_type='Op', catalogue_number=55, catalogue_number_secondary=None, catalogue_id=None, composition_year=1842, composition_year_string='1842-44', key_signature=None, movements=[Movement(title='Andante', number=1, key_signature='fminor', download_url='https://imslp.org/wiki/Special:ImagefromIndex/837958'), Movement(title='Lento sostenuto', number=2, key_signature='eflat', download_url='https://imslp.org/wiki/Special:ImagefromIndex/837959')], sub_piece_type='nocturnes', sub_piece_count=2, instrumentation=['piano'], nickname=None, piece_style='romantic', imslp_url='https://imslp.org/wiki/Nocturnes%2C_Op.55_(Chopin%2C_Fr%C3%A9d%C3%A9ric)', wikipedia_url='http://en.wikipedia.org/wiki/Nocturnes,_Op._55_(Chopin)')\n",
      "Piece(work_name='Piano Sonata No.2', composer_name='Chopin, Frédéric', catalogue_desc_str='Op.35', catalogue_type='Op', catalogue_number=35, catalogue_number_secondary=None, catalogue_id=None, composition_year=1837, composition_year_string='1837 (3rd mvt), 1839 (the rest)', key_signature='bflatminor', movements=[Movement(title='Grave - Doppio movimento', number=1, key_signature='bflatminor', download_url=None), Movement(title='Scherzo  - Più lento (G♭major)', number=2, key_signature='eflatminor', download_url=None), Movement(title='Marche funèbre', number=3, key_signature='bflatminor', download_url=None), Movement(title='Finale. Presto', number=4, key_signature='bflatminor', download_url=None)], sub_piece_type='movements', sub_piece_count=4, instrumentation=['piano'], nickname=None, piece_style='romantic', imslp_url='https://imslp.org/wiki/Piano_Sonata_No.2%2C_Op.35_(Chopin%2C_Fr%C3%A9d%C3%A9ric)', wikipedia_url='http://en.wikipedia.org/wiki/Piano_Sonata_No._2_(Chopin)')\n"
     ]
    },
    {
     "name": "stderr",
     "output_type": "stream",
     "text": [
      "WARNING:root:No valid key signature found in line: 1. Marche funebre : de la Sonate Op.35\n",
      "WARNING:root:No valid key signature found in line: 2. Polonaise : Op.40 no.1\n",
      "WARNING:root:No valid key signature found in line: 3. Polonaise : Op.26 No.1\n",
      "WARNING:root:No valid key signature found in line: 4. Andante spianato : de la Polonaise Op.22\n",
      "WARNING:root:No valid key signature found in line: 5. Prélude : Op.28 No.15\n",
      "WARNING:root:No valid key signature found in line: 6. Prélude : Op.28 No.4\n",
      "WARNING:root:No valid key signature found in line: 7. Prélude : Op.28 No.13\n",
      "WARNING:root:No valid key signature found in line: 8. Berceuse : Op.57\n",
      "WARNING:root:No valid key signature found in line: 9.Andantino : de la Ballade Op.38\n",
      "WARNING:root:No valid key signature found in line: 10. Largo : de la Fantaisie-Impromptu : Op.66\n"
     ]
    },
    {
     "name": "stdout",
     "output_type": "stream",
     "text": [
      "Piece(work_name='Verschiedene Werke', composer_name='Chopin, Frédéric', catalogue_desc_str=None, catalogue_type=None, catalogue_number=None, catalogue_number_secondary=None, catalogue_id=None, composition_year=None, composition_year_string=None, key_signature=None, movements=[Movement(title='Marche funebre', number=1, key_signature=None, download_url=None), Movement(title='Polonaise', number=2, key_signature=None, download_url=None), Movement(title='Polonaise', number=3, key_signature=None, download_url=None), Movement(title='Andante spianato', number=4, key_signature=None, download_url=None), Movement(title='Pr', number=5, key_signature=None, download_url=None), Movement(title='Pr', number=6, key_signature=None, download_url=None), Movement(title='Pr', number=7, key_signature=None, download_url=None), Movement(title='Berceuse', number=8, key_signature=None, download_url=None), Movement(title='Andantino', number=9, key_signature=None, download_url=None), Movement(title='Largo', number=10, key_signature=None, download_url=None)], sub_piece_type='pieces', sub_piece_count=10, instrumentation=['violin or flute piano'], nickname=None, piece_style='romantic', imslp_url='https://imslp.org/wiki/Verschiedene_Werke_(Chopin%2C_Fr%C3%A9d%C3%A9ric)', wikipedia_url=None)\n",
      "Piece(work_name='Sonata No.1', composer_name='Chopin, Frédéric', catalogue_desc_str='Op.4', catalogue_type='Op', catalogue_number=4, catalogue_number_secondary=None, catalogue_id=None, composition_year=1828, composition_year_string='1828', key_signature='cminor', movements=[Movement(title='Allegro maestoso', number=1, key_signature='cminor', download_url='https://imslp.org/wiki/Special:ImagefromIndex/868627'), Movement(title='Minuetto. Allegretto  - Trio (E♭minor)', number=2, key_signature='eflat', download_url=None), Movement(title='Larghetto', number=3, key_signature='aflat', download_url='https://imslp.org/wiki/Special:ImagefromIndex/868629'), Movement(title='Finale. Presto', number=4, key_signature='cminor', download_url=None)], sub_piece_type='movements', sub_piece_count=4, instrumentation=['piano'], nickname=None, piece_style='romantic', imslp_url='https://imslp.org/wiki/Piano_Sonata_No.1%2C_Op.4_(Chopin%2C_Fr%C3%A9d%C3%A9ric)', wikipedia_url='http://en.wikipedia.org/wiki/Piano_Sonata_No._1_(Chopin)')\n",
      "Piece(work_name='Contredanse', composer_name='Chopin, Frédéric', catalogue_desc_str='B.17', catalogue_type='B', catalogue_number=17, catalogue_number_secondary=None, catalogue_id=None, composition_year=1827, composition_year_string='1827 or 1829', key_signature='gflat', movements=[], sub_piece_type=None, sub_piece_count=None, instrumentation=['piano'], nickname=None, piece_style='romantic', imslp_url='https://imslp.org/wiki/Contredanse_in_G-flat_major%2C_B.17_(Chopin%2C_Fr%C3%A9d%C3%A9ric)', wikipedia_url=None)\n",
      "Piece(work_name='Variation No.6', composer_name='Chopin, Frédéric', catalogue_desc_str='B.113, KK IIb/2', catalogue_type='B', catalogue_number=None, catalogue_number_secondary=None, catalogue_id=None, composition_year=1837, composition_year_string='1837', key_signature='e', movements=[], sub_piece_type=None, sub_piece_count=None, instrumentation=['piano'], nickname=None, piece_style='romantic', imslp_url='https://imslp.org/wiki/Hexam%C3%A9ron:_Variation_No.6%2C_B.113_(Chopin%2C_Fr%C3%A9d%C3%A9ric)', wikipedia_url='http://en.wikipedia.org/wiki/Hexameron_(musical_composition)')\n"
     ]
    },
    {
     "name": "stderr",
     "output_type": "stream",
     "text": [
      "WARNING:root:No valid key signature found in line: Orchestra,Frédéric Chopin(piano)\n"
     ]
    },
    {
     "name": "stdout",
     "output_type": "stream",
     "text": [
      "Piece(work_name='Piano Concerto No.2', composer_name='Chopin, Frédéric', catalogue_desc_str='Op.21', catalogue_type='Op', catalogue_number=21, catalogue_number_secondary=None, catalogue_id=None, composition_year=1829, composition_year_string='1829-30', key_signature='fminor', movements=[Movement(title='Maestoso', number=1, key_signature='fminor', download_url='https://imslp.org/wiki/Special:ImagefromIndex/55548'), Movement(title='Larghetto', number=2, key_signature='aflat', download_url='https://imslp.org/wiki/Special:ImagefromIndex/55549'), Movement(title='Allegro vivace', number=3, key_signature='fminor', download_url='https://imslp.org/wiki/Special:ImagefromIndex/55550'), Movement(title='Orchestra,Frédéric Chopin(piano)', number=1, key_signature=None, download_url=None)], sub_piece_type='movements', sub_piece_count=3, instrumentation=['piano', 'orchestra'], nickname=None, piece_style='romantic', imslp_url='https://imslp.org/wiki/Piano_Concerto_No.2%2C_Op.21_(Chopin%2C_Fr%C3%A9d%C3%A9ric)', wikipedia_url='http://en.wikipedia.org/wiki/Piano_Concerto_No._2_(Chopin)')\n",
      "Piece(work_name='Mazurkas', composer_name='Chopin, Frédéric', catalogue_desc_str='Op.50', catalogue_type='Op', catalogue_number=50, catalogue_number_secondary=None, catalogue_id=None, composition_year=1841, composition_year_string='1841-42', key_signature=None, movements=[Movement(title='Vivace', number=1, key_signature='g', download_url=None), Movement(title='Allegretto', number=2, key_signature='aflat', download_url='https://imslp.org/wiki/Special:ImagefromIndex/800063'), Movement(title='Moderato', number=3, key_signature='csharpminor', download_url='https://imslp.org/wiki/Special:ImagefromIndex/774816')], sub_piece_type='pieces', sub_piece_count=3, instrumentation=['piano'], nickname=None, piece_style='romantic', imslp_url='https://imslp.org/wiki/Mazurkas%2C_Op.50_(Chopin%2C_Fr%C3%A9d%C3%A9ric)', wikipedia_url='http://en.wikipedia.org/wiki/Mazurkas,_Op._50_(Chopin)')\n",
      "Piece(work_name='Waltz', composer_name='Chopin, Frédéric', catalogue_desc_str='B.44', catalogue_type='B', catalogue_number=44, catalogue_number_secondary=None, catalogue_id=None, composition_year=1829, composition_year_string='1829 ca.', key_signature='e', movements=[], sub_piece_type=None, sub_piece_count=None, instrumentation=['piano'], nickname=None, piece_style='romantic', imslp_url='https://imslp.org/wiki/Waltz_in_E_major%2C_B.44_(Chopin%2C_Fr%C3%A9d%C3%A9ric)', wikipedia_url='http://en.wikipedia.org/wiki/Waltz_in_E_major,_Op._posth._(Chopin)')\n",
      "Piece(work_name='Variations for Flute and Piano', composer_name='Chopin, Frédéric', catalogue_desc_str='B.9\\xa0; KK Anh.Ia/5\\xa0; WN deest', catalogue_type='B', catalogue_number=9, catalogue_number_secondary=None, catalogue_id=None, composition_year=1829, composition_year_string='1829 or after', key_signature='e', movements=[], sub_piece_type=None, sub_piece_count=None, instrumentation=['flute', 'piano'], nickname=\"Variations on a Theme (Non più mesta) from Rossini's 'La Cenerentola' for Flute and Piano\", piece_style='romantic', imslp_url='https://imslp.org/wiki/Variations_for_Flute_and_Piano_in_E_major%2C_B.9_(Chopin%2C_Fr%C3%A9d%C3%A9ric)', wikipedia_url=None)\n"
     ]
    },
    {
     "name": "stderr",
     "output_type": "stream",
     "text": [
      "WARNING:root:No valid key signature found in line: à Madame la ComtesseDelfina Potocka\n",
      "WARNING:root:No valid key signature found in line: à Mme la BaronneCharlotte de Rothschild\n",
      "WARNING:root:No valid key signature found in line: à Mlle la ComtesseKatarzyna Branicka\n"
     ]
    },
    {
     "name": "stdout",
     "output_type": "stream",
     "text": [
      "Piece(work_name='Waltzes', composer_name='Chopin, Frédéric', catalogue_desc_str='Op.64', catalogue_type='Op', catalogue_number=64, catalogue_number_secondary=None, catalogue_id=None, composition_year=1846, composition_year_string='1846-47', key_signature=None, movements=[Movement(title='à Madame la ComtesseDelfina Potocka', number=1, key_signature=None, download_url=None), Movement(title='à Mme la BaronneCharlotte de Rothschild', number=2, key_signature=None, download_url=None), Movement(title='à Mlle la ComtesseKatarzyna Branicka', number=3, key_signature=None, download_url=None), Movement(title='Molto vivace', number=1, key_signature='dflat', download_url='https://imslp.org/wiki/Special:ImagefromIndex/400812'), Movement(title='Tempo giusto', number=2, key_signature='csharpminor', download_url='https://imslp.org/wiki/Special:ImagefromIndex/400822'), Movement(title='Moderato', number=3, key_signature='aflat', download_url='https://imslp.org/wiki/Special:ImagefromIndex/400823')], sub_piece_type='waltzes', sub_piece_count=3, instrumentation=['piano'], nickname='3 Valses pour le piano', piece_style='romantic', imslp_url='https://imslp.org/wiki/Waltzes%2C_Op.64_(Chopin%2C_Fr%C3%A9d%C3%A9ric)', wikipedia_url='http://en.wikipedia.org/wiki/Waltz_in_A-flat_major,_Op._64,_No._3_(Chopin)')\n",
      "Piece(work_name='Ballade No.1', composer_name='Chopin, Frédéric', catalogue_desc_str='Op.23', catalogue_type='Op', catalogue_number=23, catalogue_number_secondary=None, catalogue_id=None, composition_year=1831, composition_year_string='1831? (first version), 1834-35? (final version)', key_signature='gminor', movements=[], sub_piece_type='ballad', sub_piece_count=1, instrumentation=['piano'], nickname=None, piece_style='romantic', imslp_url='https://imslp.org/wiki/Ballade_No.1%2C_Op.23_(Chopin%2C_Fr%C3%A9d%C3%A9ric)', wikipedia_url='http://en.wikipedia.org/wiki/fr:Ballade_no_1_de_Chopin')\n",
      "Piece(work_name='Waltzes', composer_name='Chopin, Frédéric', catalogue_desc_str='Op.34', catalogue_type='Op', catalogue_number=34, catalogue_number_secondary=None, catalogue_id=None, composition_year=1835, composition_year_string='1835 (No.1), 1838 (Nos.2-3)', key_signature=None, movements=[Movement(title='Vivace', number=1, key_signature='aflat', download_url='https://imslp.org/wiki/Special:ImagefromIndex/400829'), Movement(title='Lento', number=2, key_signature='aminor', download_url='https://imslp.org/wiki/Special:ImagefromIndex/400830'), Movement(title='Vivace', number=3, key_signature='f', download_url='https://imslp.org/wiki/Special:ImagefromIndex/400829')], sub_piece_type='waltzes', sub_piece_count=3, instrumentation=['piano'], nickname=None, piece_style='romantic', imslp_url='https://imslp.org/wiki/Waltzes%2C_Op.34_(Chopin%2C_Fr%C3%A9d%C3%A9ric)', wikipedia_url='http://en.wikipedia.org/wiki/Waltzes,_Op._34_(Chopin)')\n",
      "Piece(work_name='Waltz', composer_name='Chopin, Frédéric', catalogue_desc_str='B.46\\xa0; Op.P1-14', catalogue_type='B', catalogue_number=46, catalogue_number_secondary=None, catalogue_id=None, composition_year=1829, composition_year_string='1829-1830', key_signature='eflat', movements=[], sub_piece_type='waltz', sub_piece_count=1, instrumentation=['piano'], nickname=None, piece_style='romantic', imslp_url='https://imslp.org/wiki/Waltz_in_E-flat_major%2C_B.46_(Chopin%2C_Fr%C3%A9d%C3%A9ric)', wikipedia_url=None)\n",
      "Piece(work_name='Bolero', composer_name='Chopin, Frédéric', catalogue_desc_str='Op.19', catalogue_type='Op', catalogue_number=19, catalogue_number_secondary=None, catalogue_id=None, composition_year=1833, composition_year_string='1833', key_signature='aminor', movements=[], sub_piece_type=None, sub_piece_count=None, instrumentation=['piano'], nickname=None, piece_style='romantic', imslp_url='https://imslp.org/wiki/Bolero%2C_Op.19_(Chopin%2C_Fr%C3%A9d%C3%A9ric)', wikipedia_url='http://en.wikipedia.org/wiki/wikipedia:Bolero_(Chopin)')\n",
      "Piece(work_name='Waltz', composer_name='Chopin, Frédéric', catalogue_desc_str='B.56', catalogue_type='B', catalogue_number=56, catalogue_number_secondary=None, catalogue_id=None, composition_year=1830, composition_year_string='1830 ca.', key_signature='eminor', movements=[], sub_piece_type=None, sub_piece_count=None, instrumentation=['piano'], nickname=None, piece_style='romantic', imslp_url='https://imslp.org/wiki/Waltz_in_E_minor%2C_B.56_(Chopin%2C_Fr%C3%A9d%C3%A9ric)', wikipedia_url='http://en.wikipedia.org/wiki/Waltz_in_E_minor_(Chopin)')\n"
     ]
    },
    {
     "name": "stderr",
     "output_type": "stream",
     "text": [
      "WARNING:root:No valid key signature found in line: Mazurka in G major\n",
      "WARNING:root:No valid key signature found in line: Mazurka in B♭major\n"
     ]
    },
    {
     "name": "stdout",
     "output_type": "stream",
     "text": [
      "Piece(work_name='2 Mazurkas', composer_name='Chopin, Frédéric', catalogue_desc_str='B.16', catalogue_type='B', catalogue_number=16, catalogue_number_secondary=None, catalogue_id=None, composition_year=1825, composition_year_string='1825-6', key_signature=None, movements=[Movement(title='Mazurka in G major', number=1, key_signature=None, download_url=None), Movement(title='Mazurka in B♭major', number=2, key_signature=None, download_url=None)], sub_piece_type='pieces', sub_piece_count=2, instrumentation=['piano'], nickname=None, piece_style='romantic', imslp_url='https://imslp.org/wiki/2_Mazurkas%2C_B.16_(Chopin%2C_Fr%C3%A9d%C3%A9ric)', wikipedia_url=None)\n"
     ]
    },
    {
     "name": "stderr",
     "output_type": "stream",
     "text": [
      "WARNING:root:Title for movement malformed, skipping: (Monatsbericht(1847), p.170) — Breitkopf\n"
     ]
    },
    {
     "name": "stdout",
     "output_type": "stream",
     "text": [
      "Piece(work_name='Mazurkas', composer_name='Chopin, Frédéric', catalogue_desc_str='Op.63', catalogue_type='Op', catalogue_number=63, catalogue_number_secondary=None, catalogue_id=None, composition_year=1846, composition_year_string='1846', key_signature=None, movements=[Movement(title='Vivace', number=1, key_signature='b', download_url=None), Movement(title='Lento', number=2, key_signature='fminor', download_url=None), Movement(title='Allegretto', number=3, key_signature='csharpminor', download_url=None)], sub_piece_type='pieces', sub_piece_count=3, instrumentation=['piano'], nickname=None, piece_style='romantic', imslp_url='https://imslp.org/wiki/Mazurkas%2C_Op.63_(Chopin%2C_Fr%C3%A9d%C3%A9ric)', wikipedia_url='http://en.wikipedia.org/wiki/Mazurkas,_Op._63_(Chopin)')\n",
      "Piece(work_name='Nocturnes', composer_name='Chopin, Frédéric', catalogue_desc_str='Op.37', catalogue_type='Op', catalogue_number=37, catalogue_number_secondary=None, catalogue_id=None, composition_year=1837, composition_year_string='1837-39', key_signature=None, movements=[Movement(title='Andante sostenuto', number=1, key_signature='gminor', download_url='https://imslp.org/wiki/Special:ImagefromIndex/706006'), Movement(title='Andantino', number=2, key_signature='g', download_url='https://imslp.org/wiki/Special:ImagefromIndex/706007')], sub_piece_type='nocturnes', sub_piece_count=2, instrumentation=['piano'], nickname=None, piece_style='romantic', imslp_url='https://imslp.org/wiki/Nocturnes%2C_Op.37_(Chopin%2C_Fr%C3%A9d%C3%A9ric)', wikipedia_url='http://en.wikipedia.org/wiki/Nocturnes,_Op._37_(Chopin)')\n",
      "Piece(work_name='Mazurkas', composer_name='Chopin, Frédéric', catalogue_desc_str='Op.33', catalogue_type='Op', catalogue_number=33, catalogue_number_secondary=None, catalogue_id=None, composition_year=1837, composition_year_string='1837-38', key_signature='e', movements=[Movement(title='Mesto', number=1, key_signature='gsharpminor', download_url='https://imslp.org/wiki/Special:ImagefromIndex/800065'), Movement(title='Vivace', number=2, key_signature='d', download_url=None), Movement(title='Semplice', number=3, key_signature='c', download_url='https://imslp.org/wiki/Special:ImagefromIndex/800071'), Movement(title='Mesto', number=4, key_signature='bminor', download_url='https://imslp.org/wiki/Special:ImagefromIndex/800065')], sub_piece_type='mazurkas', sub_piece_count=4, instrumentation=['piano'], nickname=None, piece_style='romantic', imslp_url='https://imslp.org/wiki/Mazurkas%2C_Op.33_(Chopin%2C_Fr%C3%A9d%C3%A9ric)', wikipedia_url='http://en.wikipedia.org/wiki/Mazurkas,_Op._33_(Chopin)')\n",
      "Piece(work_name='Tarantella', composer_name='Chopin, Frédéric', catalogue_desc_str='Op.43\\xa0; CT 205', catalogue_type='Op', catalogue_number=43, catalogue_number_secondary=None, catalogue_id=None, composition_year=1841, composition_year_string='1841', key_signature='aflat', movements=[], sub_piece_type=None, sub_piece_count=None, instrumentation=['piano'], nickname=None, piece_style='romantic', imslp_url='https://imslp.org/wiki/Tarantella%2C_Op.43_(Chopin%2C_Fr%C3%A9d%C3%A9ric)', wikipedia_url='http://en.wikipedia.org/wiki/Tarantelle_(Chopin)')\n",
      "Piece(work_name='Berceuse', composer_name='Chopin, Frédéric', catalogue_desc_str='Op.57', catalogue_type='Op', catalogue_number=57, catalogue_number_secondary=None, catalogue_id=None, composition_year=1843, composition_year_string='1843-44', key_signature='dflat', movements=[], sub_piece_type=None, sub_piece_count=None, instrumentation=['piano'], nickname=None, piece_style='romantic', imslp_url='https://imslp.org/wiki/Berceuse%2C_Op.57_(Chopin%2C_Fr%C3%A9d%C3%A9ric)', wikipedia_url='http://en.wikipedia.org/wiki/Berceuse_(Chopin)')\n",
      "Piece(work_name='Deux Nocturnes', composer_name='Chopin, Frédéric', catalogue_desc_str='Op.32\\xa0; CT 116, 117', catalogue_type='Op', catalogue_number=32, catalogue_number_secondary=None, catalogue_id=None, composition_year=1836, composition_year_string='1836-37', key_signature=None, movements=[Movement(title='Andante sostenuto', number=1, key_signature='b', download_url='https://imslp.org/wiki/Special:ImagefromIndex/706003'), Movement(title='Lento', number=2, key_signature='aflat', download_url='https://imslp.org/wiki/Special:ImagefromIndex/706004')], sub_piece_type='pieces', sub_piece_count=2, instrumentation=['piano'], nickname=None, piece_style='romantic', imslp_url='https://imslp.org/wiki/Nocturnes%2C_Op.32_(Chopin%2C_Fr%C3%A9d%C3%A9ric)', wikipedia_url='http://en.wikipedia.org/wiki/Nocturnes,_Op._32_(Chopin)')\n"
     ]
    },
    {
     "name": "stderr",
     "output_type": "stream",
     "text": [
      "WARNING:root:Title for movement malformed, skipping: Mazurka, Op.6 No.1\n",
      "WARNING:root:Title for movement malformed, skipping: Mazurka, Op.6 No.2\n",
      "WARNING:root:Title for movement malformed, skipping: Mazurka, Op.6 No.3\n",
      "WARNING:root:Title for movement malformed, skipping: Mazurka, Op.6 No.4\n",
      "WARNING:root:Title for movement malformed, skipping: Mazurka, Op.7 No.1\n",
      "WARNING:root:Title for movement malformed, skipping: Mazurka, Op.7 No.2\n",
      "WARNING:root:Title for movement malformed, skipping: Mazurka, Op.7 No.3\n",
      "WARNING:root:Title for movement malformed, skipping: Mazurka, Op.7 No.4\n",
      "WARNING:root:Title for movement malformed, skipping: Mazurka, Op.7 No.5\n",
      "WARNING:root:Title for movement malformed, skipping: Mazurka, Op.17 No.1\n",
      "WARNING:root:Title for movement malformed, skipping: Mazurka, Op.17 No.2\n",
      "WARNING:root:Title for movement malformed, skipping: Mazurka, Op.17 No.3\n",
      "WARNING:root:Title for movement malformed, skipping: Mazurka, Op.17 No.4\n",
      "WARNING:root:Title for movement malformed, skipping: Mazurka, Op.24 No.1\n",
      "WARNING:root:Title for movement malformed, skipping: Mazurka, Op.24 No.2\n",
      "WARNING:root:Title for movement malformed, skipping: Mazurka, Op.24 No.3\n",
      "WARNING:root:Title for movement malformed, skipping: Mazurka, Op.24 No.4\n",
      "WARNING:root:Title for movement malformed, skipping: Mazurka, Op.30 No.1\n",
      "WARNING:root:Title for movement malformed, skipping: Mazurka, Op.30 No.2\n",
      "WARNING:root:Title for movement malformed, skipping: Mazurka, Op.30 No.3\n",
      "WARNING:root:Title for movement malformed, skipping: Mazurka, Op.30 No.4\n",
      "WARNING:root:Title for movement malformed, skipping: Mazurka, Op.33 No.1\n",
      "WARNING:root:Title for movement malformed, skipping: Mazurka, Op.33 No.2\n",
      "WARNING:root:Title for movement malformed, skipping: Mazurka, Op.33 No.3\n",
      "WARNING:root:Title for movement malformed, skipping: Mazurka, Op.33 No.4\n",
      "WARNING:root:Title for movement malformed, skipping: Mazurka, Op.41 No.1\n",
      "WARNING:root:Title for movement malformed, skipping: Mazurka, Op.41 No.2\n",
      "WARNING:root:Title for movement malformed, skipping: Mazurka, Op.41 No.3\n",
      "WARNING:root:Title for movement malformed, skipping: Mazurka, Op.41 No.4\n",
      "WARNING:root:Title for movement malformed, skipping: Mazurka, Op.50 No.1\n",
      "WARNING:root:Title for movement malformed, skipping: Mazurka, Op.50 No.2\n",
      "WARNING:root:Title for movement malformed, skipping: Mazurka, Op.50 No.3\n",
      "WARNING:root:Title for movement malformed, skipping: Mazurka, Op.56 No.1\n",
      "WARNING:root:Title for movement malformed, skipping: Mazurka, Op.56 No.2\n",
      "WARNING:root:Title for movement malformed, skipping: Mazurka, Op.56 No.3\n",
      "WARNING:root:Title for movement malformed, skipping: Mazurka, Op.59 No.1\n",
      "WARNING:root:Title for movement malformed, skipping: Mazurka, Op.59 No.2\n",
      "WARNING:root:Title for movement malformed, skipping: Mazurka, Op.59 No.3\n",
      "WARNING:root:Title for movement malformed, skipping: Mazurka, Op.63 No.1\n",
      "WARNING:root:Title for movement malformed, skipping: Mazurka, Op.63 No.2\n",
      "WARNING:root:Title for movement malformed, skipping: Mazurka, Op.63 No.3\n",
      "WARNING:root:Title for movement malformed, skipping: Mazurka, Op.67 No.1\n",
      "WARNING:root:Title for movement malformed, skipping: Mazurka, Op.67 No.2\n",
      "WARNING:root:Title for movement malformed, skipping: Mazurka, Op.67 No.3\n",
      "WARNING:root:Title for movement malformed, skipping: Mazurka, Op.67 No.4\n",
      "WARNING:root:Title for movement malformed, skipping: Mazurka, Op.68 No.1\n",
      "WARNING:root:Title for movement malformed, skipping: Mazurka, Op.68 No.2\n",
      "WARNING:root:Title for movement malformed, skipping: Mazurka, Op.68 No.3\n",
      "WARNING:root:Title for movement malformed, skipping: Mazurka, Op.68 No.4\n",
      "WARNING:root:No valid key signature found in line: Mazurka in A minor, B.134\n",
      "WARNING:root:No valid key signature found in line: Mazurka in C major, B.82\n"
     ]
    },
    {
     "name": "stdout",
     "output_type": "stream",
     "text": [
      "Piece(work_name='Mazurkas', composer_name='Chopin, Frédéric', catalogue_desc_str=None, catalogue_type=None, catalogue_number=None, catalogue_number_secondary=None, catalogue_id=None, composition_year=None, composition_year_string=None, key_signature=None, movements=[Movement(title='Mazurka in A minor, B.134', number=50, key_signature=None, download_url=None), Movement(title='Mazurka in C major, B.82', number=51, key_signature=None, download_url=None)], sub_piece_type='mazurkas', sub_piece_count=51, instrumentation=['piano'], nickname=None, piece_style='romantic', imslp_url='https://imslp.org/wiki/Mazurkas%2C_IFC_129_(Chopin%2C_Fr%C3%A9d%C3%A9ric)', wikipedia_url=None)\n",
      "Piece(work_name='Variations', composer_name='Chopin, Frédéric', catalogue_desc_str='B.37\\xa0; Op.P1-10', catalogue_type='B', catalogue_number=37, catalogue_number_secondary=None, catalogue_id=None, composition_year=1829, composition_year_string='1829', key_signature='a', movements=[], sub_piece_type=None, sub_piece_count=None, instrumentation=['piano'], nickname='Souvenir de Paganini', piece_style='romantic', imslp_url='https://imslp.org/wiki/Variations_in_A_major%2C_B.37_(Chopin%2C_Fr%C3%A9d%C3%A9ric)', wikipedia_url=None)\n",
      "Piece(work_name='Casta Diva', composer_name='Chopin, Frédéric', catalogue_desc_str='D1/1', catalogue_type=None, catalogue_number=None, catalogue_number_secondary=None, catalogue_id=None, composition_year=1831, composition_year_string='1831 ca.', key_signature='e', movements=[], sub_piece_type=None, sub_piece_count=None, instrumentation=['piano'], nickname='Air de Casta Diva-Arrangement pour Clavier', piece_style='romantic', imslp_url='https://imslp.org/wiki/Casta_Diva_(Chopin%2C_Fr%C3%A9d%C3%A9ric)', wikipedia_url=None)\n"
     ]
    },
    {
     "name": "stderr",
     "output_type": "stream",
     "text": [
      "WARNING:root:No valid key signature found in line: Ecossaise in D major\n",
      "WARNING:root:No valid key signature found in line: Ecossaise in G major\n",
      "WARNING:root:No valid key signature found in line: Ecossaise in D-flat major\n"
     ]
    },
    {
     "name": "stdout",
     "output_type": "stream",
     "text": [
      "Piece(work_name='3 Ecossaises', composer_name='Chopin, Frédéric', catalogue_desc_str='Op.72 No.3', catalogue_type='Op', catalogue_number=72, catalogue_number_secondary=3, catalogue_id=None, composition_year=1826, composition_year_string='1826 (possibly 1829-30?)', key_signature=None, movements=[Movement(title='Ecossaise in D major', number=1, key_signature=None, download_url=None), Movement(title='Ecossaise in G major', number=2, key_signature=None, download_url=None), Movement(title='Ecossaise in D-flat major', number=3, key_signature=None, download_url=None)], sub_piece_type='ecossaises', sub_piece_count=3, instrumentation=['piano'], nickname=None, piece_style='romantic', imslp_url='https://imslp.org/wiki/3_Ecossaises%2C_Op.72_No.3_(Chopin%2C_Fr%C3%A9d%C3%A9ric)', wikipedia_url=None)\n",
      "Piece(work_name='Mazurka', composer_name='Chopin, Frédéric', catalogue_desc_str='B.73\\xa0; X/56', catalogue_type='B', catalogue_number=73, catalogue_number_secondary=None, catalogue_id=None, composition_year=1832, composition_year_string='1832', key_signature='bflat', movements=[], sub_piece_type=None, sub_piece_count=None, instrumentation=['piano'], nickname='Wołowska', piece_style='romantic', imslp_url=\"https://imslp.org/wiki/Mazurka_in_B-flat_major_'Wo%C5%82owska'%2C_B.73_(Chopin%2C_Fr%C3%A9d%C3%A9ric)\", wikipedia_url=None)\n",
      "Piece(work_name='Nocturne', composer_name='Chopin, Frédéric', catalogue_desc_str='B.108\\xa0; C.128', catalogue_type='B', catalogue_number=108, catalogue_number_secondary=None, catalogue_id=None, composition_year=1837, composition_year_string='1837', key_signature='cminor', movements=[], sub_piece_type=None, sub_piece_count=None, instrumentation=['piano'], nickname=None, piece_style='romantic', imslp_url='https://imslp.org/wiki/Nocturne_in_C_minor%2C_B.108_(Chopin%2C_Fr%C3%A9d%C3%A9ric)', wikipedia_url='http://en.wikipedia.org/wiki/Nocturne_in_C_minor,_Op._posth._(Chopin)')\n",
      "Piece(work_name='Mazurkas', composer_name='Chopin, Frédéric', catalogue_desc_str='Op.17', catalogue_type='Op', catalogue_number=17, catalogue_number_secondary=None, catalogue_id=None, composition_year=1831, composition_year_string='1831-33', key_signature=None, movements=[Movement(title='Vivo e risoluto', number=1, key_signature='bflat', download_url=None), Movement(title='Lento, ma non troppo', number=2, key_signature='eminor', download_url='https://imslp.org/wiki/Special:ImagefromIndex/775306'), Movement(title='Legato assai', number=3, key_signature='aflat', download_url=None), Movement(title='Lento, ma non troppo', number=4, key_signature='aminor', download_url='https://imslp.org/wiki/Special:ImagefromIndex/775306')], sub_piece_type='pieces', sub_piece_count=4, instrumentation=['piano'], nickname=None, piece_style='romantic', imslp_url='https://imslp.org/wiki/Mazurkas%2C_Op.17_(Chopin%2C_Fr%C3%A9d%C3%A9ric)', wikipedia_url='http://en.wikipedia.org/wiki/Mazurkas,_Op._17_(Chopin)')\n"
     ]
    },
    {
     "name": "stderr",
     "output_type": "stream",
     "text": [
      "WARNING:root:No valid key signature found in line: 1. Etude in C major, 'Waterfall'\n",
      "WARNING:root:No valid key signature found in line: 2. Etude in A minor, 'Chromatique'\n",
      "WARNING:root:No valid key signature found in line: 3. Etude in E major, 'Tristesse'\n",
      "WARNING:root:No valid key signature found in line: 4. Etude in C-sharp minor, 'Torrent'\n",
      "WARNING:root:No valid key signature found in line: 5. Etude in G-flat major, 'Black Keys'\n",
      "WARNING:root:No valid key signature found in line: 6. Etude in E-flat minor, 'Lament'\n",
      "WARNING:root:No valid key signature found in line: 7. Etude in C major, 'Toccata'\n",
      "WARNING:root:No valid key signature found in line: 8. Etude in F major, 'Sunshine'\n",
      "WARNING:root:No valid key signature found in line: 9. Etude in F minor\n",
      "WARNING:root:No valid key signature found in line: 10. Etude in A-flat major\n",
      "WARNING:root:No valid key signature found in line: 11. Etude in E-flat major, 'Arpeggio'\n",
      "WARNING:root:No valid key signature found in line: 12. Etude in C minor, 'Revolutionary'\n"
     ]
    },
    {
     "name": "stdout",
     "output_type": "stream",
     "text": [
      "Piece(work_name='Etudes', composer_name='Chopin, Frédéric', catalogue_desc_str='Op.10', catalogue_type='Op', catalogue_number=10, catalogue_number_secondary=None, catalogue_id=None, composition_year=1829, composition_year_string='1829-32', key_signature=None, movements=[Movement(title='Etude in C major', number=1, key_signature=None, download_url=None), Movement(title='Etude in A minor', number=2, key_signature=None, download_url=None), Movement(title='Etude in E major', number=3, key_signature=None, download_url=None), Movement(title='Etude in C', number=4, key_signature=None, download_url=None), Movement(title='Etude in G', number=5, key_signature=None, download_url=None), Movement(title='Etude in E', number=6, key_signature=None, download_url=None), Movement(title='Etude in C major', number=7, key_signature=None, download_url=None), Movement(title='Etude in F major', number=8, key_signature=None, download_url=None), Movement(title='Etude in F minor', number=9, key_signature=None, download_url=None), Movement(title='Etude in A', number=10, key_signature=None, download_url=None), Movement(title='Etude in E', number=11, key_signature=None, download_url=None), Movement(title='Etude in C minor', number=12, key_signature=None, download_url=None)], sub_piece_type='studies', sub_piece_count=12, instrumentation=['piano'], nickname=None, piece_style='romantic', imslp_url='https://imslp.org/wiki/%C3%89tudes%2C_Op.10_(Chopin%2C_Fr%C3%A9d%C3%A9ric)', wikipedia_url='http://en.wikipedia.org/wiki/pl:Etiudy_op._10_(Chopin)')\n",
      "Piece(work_name='Impromptu No.3', composer_name='Chopin, Frédéric', catalogue_desc_str='Op.51', catalogue_type='Op', catalogue_number=51, catalogue_number_secondary=None, catalogue_id=None, composition_year=1842, composition_year_string='1842', key_signature='gflat', movements=[], sub_piece_type=None, sub_piece_count=None, instrumentation=['piano'], nickname=None, piece_style='romantic', imslp_url='https://imslp.org/wiki/Impromptu_No.3%2C_Op.51_(Chopin%2C_Fr%C3%A9d%C3%A9ric)', wikipedia_url='http://en.wikipedia.org/wiki/Impromptu_No._3_(Chopin)')\n",
      "Piece(work_name='Polonaise', composer_name='Chopin, Frédéric', catalogue_desc_str='B.5\\xa0; KK IVa: No. 2', catalogue_type='B', catalogue_number=5, catalogue_number_secondary=2, catalogue_id=None, composition_year=1821, composition_year_string='1821', key_signature='aflat', movements=[], sub_piece_type=None, sub_piece_count=None, instrumentation=['piano'], nickname=None, piece_style='romantic', imslp_url='https://imslp.org/wiki/Polonaise_in_A-flat_major%2C_B.5_(Chopin%2C_Fr%C3%A9d%C3%A9ric)', wikipedia_url='http://en.wikipedia.org/wiki/Polonaises,_Op._posth._(Chopin)')\n",
      "Piece(work_name='Scherzo No.4', composer_name='Chopin, Frédéric', catalogue_desc_str='Op.54\\xa0; ct 200', catalogue_type='Op', catalogue_number=54, catalogue_number_secondary=None, catalogue_id=None, composition_year=1842, composition_year_string='1842', key_signature='e', movements=[], sub_piece_type=None, sub_piece_count=None, instrumentation=['piano'], nickname=None, piece_style='romantic', imslp_url='https://imslp.org/wiki/Scherzo_No.4%2C_Op.54_(Chopin%2C_Fr%C3%A9d%C3%A9ric)', wikipedia_url='http://en.wikipedia.org/wiki/Scherzo_No._4_(Chopin)')\n",
      "Piece(work_name='Ballade No.4', composer_name='Chopin, Frédéric', catalogue_desc_str='Op.52', catalogue_type='Op', catalogue_number=52, catalogue_number_secondary=None, catalogue_id=None, composition_year=1842, composition_year_string='1842 (revised 1843)', key_signature='fminor', movements=[], sub_piece_type='ballade', sub_piece_count=1, instrumentation=['piano'], nickname='Quatrième ballade pour piano', piece_style='romantic', imslp_url='https://imslp.org/wiki/Ballade_No.4%2C_Op.52_(Chopin%2C_Fr%C3%A9d%C3%A9ric)', wikipedia_url='http://en.wikipedia.org/wiki/Ballade_No._4_(Chopin)')\n",
      "Piece(work_name='Cello Sonata', composer_name='Chopin, Frédéric', catalogue_desc_str='Op.65', catalogue_type='Op', catalogue_number=65, catalogue_number_secondary=None, catalogue_id=None, composition_year=1846, composition_year_string='1846-1847 (summer)', key_signature='gminor', movements=[Movement(title='Allegro moderato', number=1, key_signature='gminor', download_url=None), Movement(title='Scherzo', number=2, key_signature='dminor', download_url=None), Movement(title='Largo', number=3, key_signature='bflat', download_url=None), Movement(title='Finale. Allegro', number=4, key_signature='gminor', download_url=None)], sub_piece_type='movements', sub_piece_count=4, instrumentation=['cello', 'piano'], nickname=None, piece_style='romantic', imslp_url='https://imslp.org/wiki/Cello_Sonata%2C_Op.65_(Chopin%2C_Fr%C3%A9d%C3%A9ric)', wikipedia_url='http://en.wikipedia.org/wiki/Cello_Sonata_(Chopin)')\n",
      "Piece(work_name='Waltz', composer_name='Chopin, Frédéric', catalogue_desc_str='B.133\\xa0; Op.P2-10', catalogue_type='B', catalogue_number=133, catalogue_number_secondary=None, catalogue_id=None, composition_year=1840, composition_year_string='1840/07/20', key_signature='eflat', movements=[], sub_piece_type=None, sub_piece_count=None, instrumentation=['piano'], nickname=None, piece_style='romantic', imslp_url='https://imslp.org/wiki/Waltz_in_E-flat_major%2C_B.133_(Chopin%2C_Fr%C3%A9d%C3%A9ric)', wikipedia_url=None)\n",
      "Piece(work_name='Marche funèbre', composer_name='Chopin, Frédéric', catalogue_desc_str='Op.72 No.2', catalogue_type='Op', catalogue_number=72, catalogue_number_secondary=2, catalogue_id=None, composition_year=1827, composition_year_string='1827-29', key_signature='cminor', movements=[], sub_piece_type=None, sub_piece_count=None, instrumentation=['piano'], nickname=None, piece_style='romantic', imslp_url='https://imslp.org/wiki/Marche_fun%C3%A8bre%2C_Op.72_No.2_(Chopin%2C_Fr%C3%A9d%C3%A9ric)', wikipedia_url=None)\n",
      "Piece(work_name='Polonaise-Fantaisie', composer_name='Chopin, Frédéric', catalogue_desc_str='Op.61', catalogue_type='Op', catalogue_number=61, catalogue_number_secondary=None, catalogue_id=None, composition_year=1846, composition_year_string='1846', key_signature='aflat', movements=[], sub_piece_type=None, sub_piece_count=None, instrumentation=['piano'], nickname=None, piece_style='romantic', imslp_url='https://imslp.org/wiki/Polonaise-fantaisie%2C_Op.61_(Chopin%2C_Fr%C3%A9d%C3%A9ric)', wikipedia_url='http://en.wikipedia.org/wiki/Polonaise-Fantaisie_(Chopin)')\n",
      "Piece(work_name='Ballade No.2', composer_name='Chopin, Frédéric', catalogue_desc_str='Op.38', catalogue_type='Op', catalogue_number=38, catalogue_number_secondary=None, catalogue_id=None, composition_year=1836, composition_year_string='1836-39', key_signature='f', movements=[], sub_piece_type='ballade', sub_piece_count=1, instrumentation=['piano'], nickname=None, piece_style='romantic', imslp_url='https://imslp.org/wiki/Ballade_No.2%2C_Op.38_(Chopin%2C_Fr%C3%A9d%C3%A9ric)', wikipedia_url='http://en.wikipedia.org/wiki/Ballade_No._2_(Chopin)')\n",
      "Piece(work_name='Polonaise', composer_name='Chopin, Frédéric', catalogue_desc_str='B.36\\xa0; P1-8', catalogue_type='B', catalogue_number=36, catalogue_number_secondary=None, catalogue_id=None, composition_year=1829, composition_year_string='1829 ca.', key_signature='gflat', movements=[], sub_piece_type=None, sub_piece_count=None, instrumentation=['piano'], nickname=None, piece_style='romantic', imslp_url='https://imslp.org/wiki/Polonaise_in_G-flat_major%2C_B.36_(Chopin%2C_Fr%C3%A9d%C3%A9ric)', wikipedia_url='http://en.wikipedia.org/wiki/Polonaises,_Op._posth._(Chopin)')\n",
      "Piece(work_name='Largo', composer_name='Chopin, Frédéric', catalogue_desc_str='B.109a', catalogue_type='B', catalogue_number=None, catalogue_number_secondary=None, catalogue_id=None, composition_year=1837, composition_year_string='1837 (see below)', key_signature='eflat', movements=[], sub_piece_type=None, sub_piece_count=None, instrumentation=['piano'], nickname=None, piece_style='romantic', imslp_url='https://imslp.org/wiki/Largo_in_E-flat_major%2C_B.109_(Chopin%2C_Fr%C3%A9d%C3%A9ric)', wikipedia_url=None)\n"
     ]
    },
    {
     "name": "stderr",
     "output_type": "stream",
     "text": [
      "WARNING:root:Title for movement malformed, skipping: (Monatsbericht(1855), p.823) — Schlesinger\n"
     ]
    },
    {
     "name": "stdout",
     "output_type": "stream",
     "text": [
      "Piece(work_name='Mazurkas', composer_name='Chopin, Frédéric', catalogue_desc_str='Op.68 (Posthumous)', catalogue_type='Op', catalogue_number=68, catalogue_number_secondary=None, catalogue_id=None, composition_year=1826, composition_year_string='1826-1849', key_signature='e', movements=[Movement(title='Vivace', number=1, key_signature='c', download_url=None), Movement(title='Lento', number=2, key_signature='aminor', download_url=None), Movement(title='Allegro ma non troppo', number=3, key_signature='f', download_url=None), Movement(title='Andantino', number=4, key_signature='fminor', download_url=None)], sub_piece_type='mazurkas', sub_piece_count=4, instrumentation=['piano'], nickname=None, piece_style='romantic', imslp_url='https://imslp.org/wiki/Mazurkas%2C_Op.68_(Chopin%2C_Fr%C3%A9d%C3%A9ric)', wikipedia_url='http://en.wikipedia.org/wiki/Mazurkas,_Op._68_(Chopin)')\n",
      "Piece(work_name='Rondo', composer_name='Chopin, Frédéric', catalogue_desc_str='Op.16', catalogue_type='Op', catalogue_number=16, catalogue_number_secondary=None, catalogue_id=None, composition_year=1833, composition_year_string='1833', key_signature='eflat', movements=[], sub_piece_type=None, sub_piece_count=None, instrumentation=['piano'], nickname=None, piece_style='romantic', imslp_url='https://imslp.org/wiki/Rondo_in_E-flat_major%2C_Op.16_(Chopin%2C_Fr%C3%A9d%C3%A9ric)', wikipedia_url='http://en.wikipedia.org/wiki/Rondo_in_E-flat_major_(Chopin)')\n"
     ]
    },
    {
     "name": "stderr",
     "output_type": "stream",
     "text": [
      "WARNING:root:No valid key signature found in line: 1. Etude in A-flat major, 'Aeolian Harp'\n",
      "WARNING:root:No valid key signature found in line: 2. Etude in F minor, 'The Bees'\n",
      "WARNING:root:No valid key signature found in line: 3. Etude in F major, 'The Horseman'\n",
      "WARNING:root:No valid key signature found in line: 4. Etude in A minor, 'Paganini'\n",
      "WARNING:root:No valid key signature found in line: 5. Etude in E minor, 'Wrong Note'\n",
      "WARNING:root:No valid key signature found in line: 6. Etude in G-sharp minor, 'Thirds'\n",
      "WARNING:root:No valid key signature found in line: 7. Etude in C-sharp minor, 'Cello'\n",
      "WARNING:root:No valid key signature found in line: 8. Etude in D-flat major, 'Sixths'\n",
      "WARNING:root:No valid key signature found in line: 9. Etude in G-flat major, 'Butterfly'\n",
      "WARNING:root:No valid key signature found in line: 10. Etude in B minor, 'Octave'\n",
      "WARNING:root:No valid key signature found in line: 11. Etude in A minor, 'Winter Wind'\n",
      "WARNING:root:No valid key signature found in line: 12. Etude in C minor, 'Ocean'\n"
     ]
    },
    {
     "name": "stdout",
     "output_type": "stream",
     "text": [
      "Piece(work_name='Douze Etudes', composer_name='Chopin, Frédéric', catalogue_desc_str='Op.25', catalogue_type='Op', catalogue_number=25, catalogue_number_secondary=None, catalogue_id=None, composition_year=1832, composition_year_string='1832-36', key_signature=None, movements=[Movement(title='Etude in A', number=1, key_signature=None, download_url=None), Movement(title='Etude in F minor', number=2, key_signature=None, download_url=None), Movement(title='Etude in F major', number=3, key_signature=None, download_url=None), Movement(title='Etude in A minor', number=4, key_signature=None, download_url=None), Movement(title='Etude in E minor', number=5, key_signature=None, download_url=None), Movement(title='Etude in G', number=6, key_signature=None, download_url=None), Movement(title='Etude in C', number=7, key_signature=None, download_url=None), Movement(title='Etude in D', number=8, key_signature=None, download_url=None), Movement(title='Etude in G', number=9, key_signature=None, download_url=None), Movement(title='Etude in B minor', number=10, key_signature=None, download_url=None), Movement(title='Etude in A minor', number=11, key_signature=None, download_url=None), Movement(title='Etude in C minor', number=12, key_signature=None, download_url=None)], sub_piece_type='etudes', sub_piece_count=12, instrumentation=['piano'], nickname=None, piece_style='romantic', imslp_url='https://imslp.org/wiki/%C3%89tudes%2C_Op.25_(Chopin%2C_Fr%C3%A9d%C3%A9ric)', wikipedia_url='http://en.wikipedia.org/wiki/%C3%89tudes_(Chopin)')\n",
      "Piece(work_name='Polonaises', composer_name='Chopin, Frédéric', catalogue_desc_str='Op.40', catalogue_type='Op', catalogue_number=40, catalogue_number_secondary=None, catalogue_id=None, composition_year=1838, composition_year_string='1838 (No.1) 1839 (No.2)', key_signature=None, movements=[Movement(title=\"Allegro con brio , 'Military'\", number=1, key_signature='a', download_url=None), Movement(title='Allegro maestoso', number=2, key_signature='cminor', download_url='https://imslp.org/wiki/Special:ImagefromIndex/818346')], sub_piece_type='polonaises', sub_piece_count=2, instrumentation=['piano'], nickname=None, piece_style='romantic', imslp_url='https://imslp.org/wiki/Polonaises%2C_Op.40_(Chopin%2C_Fr%C3%A9d%C3%A9ric)', wikipedia_url='http://en.wikipedia.org/wiki/Polonaises_Op._40_(Chopin)')\n",
      "Piece(work_name='Polonaise', composer_name='Chopin, Frédéric', catalogue_desc_str='B.3', catalogue_type='B', catalogue_number=3, catalogue_number_secondary=None, catalogue_id=None, composition_year=1817, composition_year_string='1817-18', key_signature='bflat', movements=[], sub_piece_type=None, sub_piece_count=None, instrumentation=['piano'], nickname=None, piece_style='romantic', imslp_url='https://imslp.org/wiki/Polonaise_in_B-flat_major%2C_B.3_(Chopin%2C_Fr%C3%A9d%C3%A9ric)', wikipedia_url='http://en.wikipedia.org/wiki/Polonaises,_Op._posth._(Chopin)')\n",
      "Piece(work_name='Piano Concerto No.1', composer_name='Chopin, Frédéric', catalogue_desc_str='Op.11', catalogue_type='Op', catalogue_number=11, catalogue_number_secondary=None, catalogue_id=None, composition_year=1830, composition_year_string='1830', key_signature='eminor', movements=[Movement(title='Allegro maestoso', number=1, key_signature='eminor', download_url='https://imslp.org/wiki/Special:ImagefromIndex/55543'), Movement(title='Romance. Larghetto', number=2, key_signature='e', download_url='https://imslp.org/wiki/Special:ImagefromIndex/654819'), Movement(title='Rondo. Vivace', number=3, key_signature='e', download_url='https://imslp.org/wiki/Special:ImagefromIndex/55545')], sub_piece_type='movements', sub_piece_count=3, instrumentation=['piano', 'orchestra'], nickname=None, piece_style='romantic', imslp_url='https://imslp.org/wiki/Piano_Concerto_No.1%2C_Op.11_(Chopin%2C_Fr%C3%A9d%C3%A9ric)', wikipedia_url='http://en.wikipedia.org/wiki/Piano_Concerto_No._1_(Chopin)')\n",
      "Piece(work_name='Polonaise', composer_name='Chopin, Frédéric', catalogue_desc_str='B.13\\xa0; KK IVa: No.5', catalogue_type='B', catalogue_number=13, catalogue_number_secondary=5, catalogue_id=None, composition_year=1826, composition_year_string='1826', key_signature='bflatminor', movements=[], sub_piece_type=None, sub_piece_count=None, instrumentation=['piano'], nickname='Adieu à Guillaume Kolberg', piece_style='romantic', imslp_url='https://imslp.org/wiki/Polonaise_in_B-flat_minor%2C_B.13_(Chopin%2C_Fr%C3%A9d%C3%A9ric)', wikipedia_url='http://en.wikipedia.org/wiki/Polonaises,_Op._posth._(Chopin)')\n",
      "Piece(work_name='Rêverie (Dumka) / There is no need', composer_name='Chopin, Frédéric', catalogue_desc_str='B.132\\xa0; XVII/19', catalogue_type='B', catalogue_number=132, catalogue_number_secondary=None, catalogue_id=None, composition_year=1840, composition_year_string='1840', key_signature='aminor', movements=[], sub_piece_type=None, sub_piece_count=None, instrumentation=['voice', 'piano'], nickname=None, piece_style='romantic', imslp_url='https://imslp.org/wiki/R%C3%AAverie%2C_B.132_(Chopin%2C_Fr%C3%A9d%C3%A9ric)', wikipedia_url='http://en.wikipedia.org/wiki/Polish_songs_(Chopin)')\n",
      "Piece(work_name='Polonaise', composer_name='Chopin, Frédéric', catalogue_desc_str='B.1', catalogue_type='B', catalogue_number=1, catalogue_number_secondary=None, catalogue_id=None, composition_year=1817, composition_year_string='1817', key_signature='gminor', movements=[], sub_piece_type=None, sub_piece_count=None, instrumentation=['piano'], nickname=None, piece_style='romantic', imslp_url='https://imslp.org/wiki/Polonaise_in_G_minor%2C_B.1_(Chopin%2C_Fr%C3%A9d%C3%A9ric)', wikipedia_url='http://en.wikipedia.org/wiki/Polonaises,_Op._posth._(Chopin)')\n",
      "Piece(work_name='Mazurka', composer_name='Chopin, Frédéric', catalogue_desc_str='B.140, Op.42A, Dbop.42A', catalogue_type='B', catalogue_number=None, catalogue_number_secondary=None, catalogue_id=None, composition_year=1840, composition_year_string='1840', key_signature='aminor', movements=[], sub_piece_type=None, sub_piece_count=None, instrumentation=['piano'], nickname=None, piece_style='romantic', imslp_url='https://imslp.org/wiki/Mazurka_in_A_minor%2C_B.140_(Chopin%2C_Fr%C3%A9d%C3%A9ric)', wikipedia_url=None)\n",
      "Piece(work_name='Bourrée No.2', composer_name='Chopin, Frédéric', catalogue_desc_str='B.160b2', catalogue_type='B', catalogue_number=None, catalogue_number_secondary=None, catalogue_id=None, composition_year=1846, composition_year_string='1846', key_signature='a', movements=[], sub_piece_type=None, sub_piece_count=None, instrumentation=['piano'], nickname=None, piece_style='romantic', imslp_url='https://imslp.org/wiki/Bourr%C3%A9e_No.2%2C_B.160b2_(Chopin%2C_Fr%C3%A9d%C3%A9ric)', wikipedia_url=None)\n",
      "Piece(work_name='Deux Nocturnes', composer_name='Chopin, Frédéric', catalogue_desc_str='Op.62', catalogue_type='Op', catalogue_number=62, catalogue_number_secondary=None, catalogue_id=None, composition_year=1845, composition_year_string='1845-46', key_signature=None, movements=[Movement(title='Andante', number=1, key_signature='b', download_url='https://imslp.org/wiki/Special:ImagefromIndex/837961'), Movement(title='Lento', number=2, key_signature='e', download_url='https://imslp.org/wiki/Special:ImagefromIndex/837962')], sub_piece_type='nocturnes', sub_piece_count=2, instrumentation=['piano'], nickname=None, piece_style='romantic', imslp_url='https://imslp.org/wiki/Nocturnes%2C_Op.62_(Chopin%2C_Fr%C3%A9d%C3%A9ric)', wikipedia_url='http://en.wikipedia.org/wiki/Nocturnes,_Op._62_(Chopin)')\n",
      "Piece(work_name='Prelude', composer_name='Chopin, Frédéric', catalogue_desc_str=None, catalogue_type=None, catalogue_number=None, catalogue_number_secondary=None, catalogue_id=None, composition_year=None, composition_year_string=None, key_signature='eflatminor', movements=[], sub_piece_type=None, sub_piece_count=None, instrumentation=['piano'], nickname=\"The Devil's Trill\", piece_style='romantic', imslp_url='https://imslp.org/wiki/Prelude_in_E-flat_minor_(Chopin%2C_Fr%C3%A9d%C3%A9ric)', wikipedia_url=None)\n",
      "Piece(work_name='Ballade No.3', composer_name='Chopin, Frédéric', catalogue_desc_str='Op.47', catalogue_type='Op', catalogue_number=47, catalogue_number_secondary=None, catalogue_id=None, composition_year=1841, composition_year_string='1841', key_signature='aflat', movements=[], sub_piece_type='ballad', sub_piece_count=1, instrumentation=['piano'], nickname=None, piece_style='romantic', imslp_url='https://imslp.org/wiki/Ballade_No.3%2C_Op.47_(Chopin%2C_Fr%C3%A9d%C3%A9ric)', wikipedia_url='http://en.wikipedia.org/wiki/Ballade_No._3_(Chopin)')\n",
      "Piece(work_name='Nocturne', composer_name='Chopin, Frédéric', catalogue_desc_str='B.49', catalogue_type='B', catalogue_number=49, catalogue_number_secondary=None, catalogue_id=None, composition_year=1830, composition_year_string='1830', key_signature='csharpminor', movements=[], sub_piece_type='nocturne', sub_piece_count=1, instrumentation=['piano'], nickname='Lento con gran espressione', piece_style='romantic', imslp_url='https://imslp.org/wiki/Nocturne_in_C-sharp_minor%2C_B.49_(Chopin%2C_Fr%C3%A9d%C3%A9ric)', wikipedia_url='http://en.wikipedia.org/wiki/Nocturne_in_C-sharp_minor,_Op._posth._(Chopin)')\n",
      "Piece(work_name='Nocturnes', composer_name='Chopin, Frédéric', catalogue_desc_str='Op.48\\xa0; CT 120, 121', catalogue_type='Op', catalogue_number=48, catalogue_number_secondary=None, catalogue_id=None, composition_year=1841, composition_year_string='1841', key_signature=None, movements=[Movement(title='Lento', number=1, key_signature='cminor', download_url='https://imslp.org/wiki/Special:ImagefromIndex/399492'), Movement(title='Andantino', number=2, key_signature='fsharpminor', download_url='https://imslp.org/wiki/Special:ImagefromIndex/399489')], sub_piece_type='nocturnes', sub_piece_count=2, instrumentation=['piano'], nickname=None, piece_style='romantic', imslp_url='https://imslp.org/wiki/Nocturnes%2C_Op.48_(Chopin%2C_Fr%C3%A9d%C3%A9ric)', wikipedia_url='http://en.wikipedia.org/wiki/Nocturnes,_Op._48_(Chopin)')\n",
      "Piece(work_name='Andante spianato et Grande polonaise brillante', composer_name='Chopin, Frédéric', catalogue_desc_str='Op.22', catalogue_type='Op', catalogue_number=22, catalogue_number_secondary=None, catalogue_id=None, composition_year=1831, composition_year_string='1831 (Grand polonaise brillante), 1834 (Andante spianato)', key_signature='e', movements=[Movement(title='Andante spianato. Tranquillo', number=1, key_signature='g', download_url=None), Movement(title='Grande polonaise brillante. Allegro molto', number=2, key_signature='eflat', download_url=None)], sub_piece_type='movements', sub_piece_count=2, instrumentation=['pianoOrchestral version: piano', 'orchestra'], nickname=None, piece_style='romantic', imslp_url='https://imslp.org/wiki/Andante_spianato_et_Grande_polonaise_brillante%2C_Op.22_(Chopin%2C_Fr%C3%A9d%C3%A9ric)', wikipedia_url='http://en.wikipedia.org/wiki/Andante_spianato_et_grande_polonaise_brillante')\n",
      "Piece(work_name='Mazurka', composer_name='Chopin, Frédéric', catalogue_desc_str='B.31\\xa0; X/54', catalogue_type='B', catalogue_number=31, catalogue_number_secondary=None, catalogue_id=None, composition_year=1829, composition_year_string='1829', key_signature='d', movements=[], sub_piece_type=None, sub_piece_count=None, instrumentation=['piano'], nickname=None, piece_style='romantic', imslp_url='https://imslp.org/wiki/Mazurka_in_D_major%2C_B.31_(Chopin%2C_Fr%C3%A9d%C3%A9ric)', wikipedia_url=None)\n",
      "Piece(work_name='Introduction, Theme and Variations on a Theme of Moore', composer_name='Chopin, Frédéric', catalogue_desc_str='B.12a\\xa0; Op.P1-6\\xa0; CT.228', catalogue_type='B', catalogue_number=None, catalogue_number_secondary=None, catalogue_id=None, composition_year=1826, composition_year_string='1826', key_signature='d', movements=[], sub_piece_type=None, sub_piece_count=None, instrumentation=['piano 4 hands'], nickname=None, piece_style='romantic', imslp_url='https://imslp.org/wiki/Variations_sur_un_air_national_de_Moore%2C_B.12a_(Chopin%2C_Fr%C3%A9d%C3%A9ric)', wikipedia_url=None)\n",
      "Piece(work_name='Scherzo No.2', composer_name='Chopin, Frédéric', catalogue_desc_str='Op.31\\xa0; CT 199', catalogue_type='Op', catalogue_number=31, catalogue_number_secondary=None, catalogue_id=None, composition_year=1837, composition_year_string='1837', key_signature='bflatminor', movements=[], sub_piece_type=None, sub_piece_count=None, instrumentation=['piano'], nickname=None, piece_style='romantic', imslp_url='https://imslp.org/wiki/Scherzo_No.2%2C_Op.31_(Chopin%2C_Fr%C3%A9d%C3%A9ric)', wikipedia_url='http://en.wikipedia.org/wiki/Scherzo_No._2_(Chopin)')\n",
      "Piece(work_name='Nocturne oubliée', composer_name='Chopin, Frédéric', catalogue_desc_str='KK Anh Ia/6', catalogue_type='KK', catalogue_number=None, catalogue_number_secondary=None, catalogue_id=None, composition_year=1833, composition_year_string='1833\\xa0?', key_signature='csharpminor', movements=[], sub_piece_type=None, sub_piece_count=None, instrumentation=['piano'], nickname='Nocturne in C-sharp minor', piece_style='romantic', imslp_url='https://imslp.org/wiki/Nocturne_oubli%C3%A9e_(Chopin%2C_Fr%C3%A9d%C3%A9ric)', wikipedia_url='http://en.wikipedia.org/wiki/Nocturne_in_C-sharp_minor_(attributed_to_Chopin)')\n",
      "Piece(work_name='Andantino', composer_name='Chopin, Frédéric', catalogue_desc_str='B.117', catalogue_type='B', catalogue_number=117, catalogue_number_secondary=None, catalogue_id=None, composition_year=1838, composition_year_string='1838', key_signature='gminor', movements=[], sub_piece_type=None, sub_piece_count=None, instrumentation=['piano'], nickname='Wiosna', piece_style='romantic', imslp_url='https://imslp.org/wiki/Andantino%2C_B.117_(Chopin%2C_Fr%C3%A9d%C3%A9ric)', wikipedia_url=None)\n",
      "Piece(work_name='Impromptu No.1', composer_name='Chopin, Frédéric', catalogue_desc_str='Op.29', catalogue_type='Op', catalogue_number=29, catalogue_number_secondary=None, catalogue_id=None, composition_year=1837, composition_year_string='1837', key_signature='aflat', movements=[], sub_piece_type=None, sub_piece_count=None, instrumentation=['piano'], nickname=None, piece_style='romantic', imslp_url='https://imslp.org/wiki/Impromptu_No.1%2C_Op.29_(Chopin%2C_Fr%C3%A9d%C3%A9ric)', wikipedia_url='http://en.wikipedia.org/wiki/Impromptu_No._1_(Chopin)')\n",
      "Piece(work_name='Mazurkas, Op.67', composer_name='Chopin, Frédéric', catalogue_desc_str='Op.67 (Posthumous)', catalogue_type='Op', catalogue_number=67, catalogue_number_secondary=None, catalogue_id=None, composition_year=1830, composition_year_string='1830?-1848', key_signature='e', movements=[Movement(title='Vivace', number=1, key_signature='g', download_url=None), Movement(title='Cantabile', number=2, key_signature='gminor', download_url=None), Movement(title='Allegretto', number=3, key_signature='c', download_url=None), Movement(title='Moderato animato', number=4, key_signature='aminor', download_url=None)], sub_piece_type='pieces', sub_piece_count=4, instrumentation=['piano'], nickname=None, piece_style='romantic', imslp_url='https://imslp.org/wiki/Mazurkas%2C_Op.67_(Chopin%2C_Fr%C3%A9d%C3%A9ric)', wikipedia_url='http://en.wikipedia.org/wiki/Mazurkas,_Op._67_(Chopin)')\n",
      "Piece(work_name='Fantasie', composer_name='Chopin, Frédéric', catalogue_desc_str='Op.49', catalogue_type='Op', catalogue_number=49, catalogue_number_secondary=None, catalogue_id=None, composition_year=1841, composition_year_string='1841', key_signature='fminor', movements=[], sub_piece_type=None, sub_piece_count=None, instrumentation=['piano'], nickname=None, piece_style='romantic', imslp_url='https://imslp.org/wiki/Fantaisie%2C_Op.49_(Chopin%2C_Fr%C3%A9d%C3%A9ric)', wikipedia_url='http://en.wikipedia.org/wiki/Fantaisie_in_F_minor_(Chopin)')\n",
      "Piece(work_name='Trois nouvelles études', composer_name='Chopin, Frédéric', catalogue_desc_str='B.130', catalogue_type='B', catalogue_number=130, catalogue_number_secondary=None, catalogue_id=None, composition_year=None, composition_year_string=None, key_signature=None, movements=[Movement(title='Andantino', number=1, key_signature='fminor', download_url='https://imslp.org/wiki/Special:ImagefromIndex/00329'), Movement(title='Allegretto', number=2, key_signature='aflat', download_url='https://imslp.org/wiki/Special:ImagefromIndex/00330'), Movement(title='Allegretto', number=3, key_signature='dflat', download_url='https://imslp.org/wiki/Special:ImagefromIndex/00330')], sub_piece_type='studies', sub_piece_count=3, instrumentation=['piano'], nickname=None, piece_style='romantic', imslp_url='https://imslp.org/wiki/3_Nouvelles_%C3%A9tudes%2C_B.130_(Chopin%2C_Fr%C3%A9d%C3%A9ric)', wikipedia_url='http://en.wikipedia.org/wiki/Trois_nouvelles_%C3%A9tudes')\n",
      "Piece(work_name='Grande fantaisie sur des airs polonais', composer_name='Chopin, Frédéric', catalogue_desc_str='Op.13\\xa0; CT 41', catalogue_type='Op', catalogue_number=13, catalogue_number_secondary=None, catalogue_id=None, composition_year=1828, composition_year_string='1828-30', key_signature='a', movements=[Movement(title='Largo non troppo', number=1, key_signature='a', download_url=None), Movement(title='Andantino', number=2, key_signature='a', download_url=None), Movement(title='Allegretto', number=3, key_signature='fsharpminor', download_url=None), Movement(title='Lento quasi adagio', number=4, key_signature='fsharpminor', download_url=None), Movement(title='Molto più mosso', number=5, key_signature='csharp', download_url=None), Movement(title='Vivace', number=6, key_signature='a', download_url=None)], sub_piece_type='sections', sub_piece_count=6, instrumentation=['piano', 'orchestra'], nickname=\"Sur des Airs Polonais avec accompagnement d'Orchestre\", piece_style='romantic', imslp_url='https://imslp.org/wiki/Grande_fantaisie_sur_des_airs_polonais%2C_Op.13_(Chopin%2C_Fr%C3%A9d%C3%A9ric)', wikipedia_url='http://en.wikipedia.org/wiki/Fantasy_on_Polish_Airs_(Chopin)')\n",
      "Piece(work_name='Fantaisie-impromptu', composer_name='Chopin, Frédéric', catalogue_desc_str='Op.66\\xa0; Oeuvr. posth. Liv. 1', catalogue_type='Op', catalogue_number=66, catalogue_number_secondary=None, catalogue_id=None, composition_year=1834, composition_year_string='1834-35', key_signature='csharpminor', movements=[], sub_piece_type=None, sub_piece_count=None, instrumentation=['piano'], nickname='Oeuvr. posth. Liv. 1', piece_style='romantic', imslp_url='https://imslp.org/wiki/Fantaisie-impromptu%2C_Op.66_(Chopin%2C_Fr%C3%A9d%C3%A9ric)', wikipedia_url='http://en.wikipedia.org/wiki/Fantaisie-Impromptu')\n",
      "Piece(work_name='Cantabile', composer_name='Chopin, Frédéric', catalogue_desc_str='B.84', catalogue_type='B', catalogue_number=84, catalogue_number_secondary=None, catalogue_id=None, composition_year=1834, composition_year_string='1834', key_signature='bflat', movements=[], sub_piece_type=None, sub_piece_count=None, instrumentation=['piano'], nickname=None, piece_style='romantic', imslp_url='https://imslp.org/wiki/Cantabile_in_B-flat_major%2C_B.84_(Chopin%2C_Fr%C3%A9d%C3%A9ric)', wikipedia_url=None)\n",
      "Piece(work_name='Nocturne', composer_name='Chopin, Frédéric', catalogue_desc_str='Op.72 No.1 (posthumous)', catalogue_type='Op', catalogue_number=72, catalogue_number_secondary=1, catalogue_id=None, composition_year=1826, composition_year_string='1826 or 1827', key_signature='eminor', movements=[], sub_piece_type=None, sub_piece_count=None, instrumentation=['piano'], nickname=None, piece_style='romantic', imslp_url='https://imslp.org/wiki/Nocturne_in_E_minor%2C_Op.72_No.1_(Chopin%2C_Fr%C3%A9d%C3%A9ric)', wikipedia_url='http://en.wikipedia.org/wiki/Nocturne_in_E_minor,_Op._posth._72_(Chopin)')\n"
     ]
    },
    {
     "name": "stderr",
     "output_type": "stream",
     "text": [
      "WARNING:root:Title for movement malformed, skipping: {Monatsbericht(1840), p.148)\n"
     ]
    },
    {
     "name": "stdout",
     "output_type": "stream",
     "text": [
      "Piece(work_name='Scherzo No.3', composer_name='Chopin, Frédéric', catalogue_desc_str='Op.39', catalogue_type='Op', catalogue_number=39, catalogue_number_secondary=None, catalogue_id=None, composition_year=1839, composition_year_string='1839', key_signature='csharpminor', movements=[], sub_piece_type=None, sub_piece_count=None, instrumentation=['piano'], nickname=None, piece_style='romantic', imslp_url='https://imslp.org/wiki/Scherzo_No.3%2C_Op.39_(Chopin%2C_Fr%C3%A9d%C3%A9ric)', wikipedia_url='http://en.wikipedia.org/wiki/Scherzo_No._3_(Chopin)')\n",
      "Piece(work_name='Waltz', composer_name='Chopin, Frédéric', catalogue_desc_str=None, catalogue_type=None, catalogue_number=None, catalogue_number_secondary=None, catalogue_id=None, composition_year=1824, composition_year_string='1824-49 ca.', key_signature='aminor', movements=[], sub_piece_type='waltz', sub_piece_count=1, instrumentation=['piano'], nickname='Valse', piece_style='romantic', imslp_url='https://imslp.org/wiki/Waltz_in_A_minor_(Chopin%2C_Fr%C3%A9d%C3%A9ric)', wikipedia_url='http://en.wikipedia.org/wiki/Valse_in_A_minor_(Chopin)')\n"
     ]
    },
    {
     "name": "stderr",
     "output_type": "stream",
     "text": [
      "WARNING:root:No valid key signature found in line: Narodowy Instytut Fryderyka Chopina;All Music Guide(1829)\n"
     ]
    },
    {
     "name": "stdout",
     "output_type": "stream",
     "text": [
      "Piece(work_name='17 Polish Songs', composer_name='Chopin, Frédéric', catalogue_desc_str='Op.74', catalogue_type='Op', catalogue_number=74, catalogue_number_secondary=None, catalogue_id=None, composition_year=1829, composition_year_string='1829-1847', key_signature=None, movements=[Movement(title='Życzenie.Allegro ma non troppo Narodowy Instytut Fryderyka Chopina;All Music Guide(1829)', number=1, key_signature='g', download_url=None), Movement(title='Wiosna.Andantino Narodowy Instytut Fryderyka Chopina;All Music Guide(1838)', number=2, key_signature='gminor', download_url=None), Movement(title='Smutna rzeka.Allegretto Narodowy Instytut Fryderyka Chopina;All Music Guide(1831)', number=3, key_signature='fsharpminor', download_url=None), Movement(title='Hulanka.Vivace Narodowy Instytut Fryderyka Chopina;All Music Guide(1830)', number=4, key_signature='c', download_url=None), Movement(title='Gdzie lubi.Allegro Narodowy Instytut Fryderyka Chopina;All Music Guide(1829)', number=5, key_signature='a', download_url=None), Movement(title='Precz z moich oczu.Larghetto Narodowy Instytut Fryderyka Chopina;All Music Guide(1830)', number=6, key_signature='fminor', download_url=None), Movement(title='Poseł.Andantino Narodowy Instytut Fryderyka Chopina;All Music Guide(1830)', number=7, key_signature='d', download_url=None), Movement(title='Śliczny Chłopiec.Allegro moderato Narodowy Instytut Fryderyka Chopina;All Music Guide(1841)', number=8, key_signature='d', download_url=None), Movement(title='Melodia.Andante Narodowy Instytut Fryderyka Chopina;All Music Guide(1847)', number=9, key_signature='eminor', download_url=None), Movement(title='Wojak.Vivace Narodowy Instytut Fryderyka Chopina;All Music Guide(1830)', number=10, key_signature='aflat', download_url=None), Movement(title='Dwojaki koniec.Allegretto Narodowy Instytut Fryderyka Chopina;All Music Guide(1845)', number=11, key_signature='dminor', download_url=None), Movement(title='Moja pieszczotka.Allegretto Narodowy Instytut Fryderyka Chopina;All Music Guide(1837)', number=12, key_signature='gflat', download_url=None), Movement(title='Nie ma czego trzeba.Lento Narodowy Instytut Fryderyka Chopina;All Music Guide(1845)', number=13, key_signature='aminor', download_url=None), Movement(title='Pierścień.Moderato Narodowy Instytut Fryderyka Chopina;All Music Guide(1836)', number=14, key_signature='eflat', download_url=None), Movement(title='Narzeczony.Prestissimo Narodowy Instytut Fryderyka Chopina;All Music Guide(1831)', number=15, key_signature='cminor', download_url=None), Movement(title='Piosenka litewska.Allegro moderato Narodowy Instytut Fryderyka Chopina;All Music Guide(1831)', number=16, key_signature='f', download_url=None), Movement(title='Śpiew z mogiłky.Moderato Narodowy Instytut Fryderyka Chopina;All Music Guide(1836)', number=17, key_signature='eflatminor', download_url=None), Movement(title='Narodowy Instytut Fryderyka Chopina;All Music Guide(1829)', number=1, key_signature=None, download_url=None)], sub_piece_type='songs', sub_piece_count=17, instrumentation=['soprano (or tenor)', 'piano'], nickname=None, piece_style='romantic', imslp_url='https://imslp.org/wiki/Polish_Songs%2C_Op.74_(Chopin%2C_Fr%C3%A9d%C3%A9ric)', wikipedia_url='http://en.wikipedia.org/wiki/Polish_songs_by_Fr%C3%A9d%C3%A9ric_Chopin')\n",
      "Piece(work_name='Lieder', composer_name='Chopin, Frédéric', catalogue_desc_str=None, catalogue_type=None, catalogue_number=None, catalogue_number_secondary=None, catalogue_id=None, composition_year=None, composition_year_string=None, key_signature=None, movements=[], sub_piece_type=None, sub_piece_count=None, instrumentation=['voice', 'piano'], nickname=None, piece_style='romantic', imslp_url='https://imslp.org/wiki/Lieder_(Chopin%2C_Fr%C3%A9d%C3%A9ric)', wikipedia_url=None)\n",
      "Piece(work_name='Polonaise', composer_name='Chopin, Frédéric', catalogue_desc_str='Op.44', catalogue_type='Op', catalogue_number=44, catalogue_number_secondary=None, catalogue_id=None, composition_year=1841, composition_year_string='1841', key_signature='fsharpminor', movements=[], sub_piece_type=None, sub_piece_count=None, instrumentation=['piano'], nickname=None, piece_style='romantic', imslp_url='https://imslp.org/wiki/Polonaise_in_F-sharp_minor%2C_Op.44_(Chopin%2C_Fr%C3%A9d%C3%A9ric)', wikipedia_url='http://en.wikipedia.org/wiki/Polonaise,_Op._44_(Chopin)')\n",
      "Piece(work_name=\"Variations on 'Là ci darem la mano'\", composer_name='Chopin, Frédéric', catalogue_desc_str='Op.2', catalogue_type='Op', catalogue_number=2, catalogue_number_secondary=None, catalogue_id=None, composition_year=1827, composition_year_string='1827', key_signature='bflat', movements=[Movement(title='Introduction. Largo — Poco piu mosso', number=1, key_signature='bflat', download_url=None), Movement(title='Theme. Allegretto', number=2, key_signature='bflat', download_url=None), Movement(title='Brillante', number=3, key_signature='bflat', download_url=None), Movement(title='Veloce', number=4, key_signature='bflat', download_url=None), Movement(title='Sempre sostenuto', number=5, key_signature='bflat', download_url=None), Movement(title='Con bravura', number=6, key_signature='bflat', download_url=None), Movement(title='Adagio', number=7, key_signature='bflatminor', download_url=None)], sub_piece_type='sections', sub_piece_count=7, instrumentation=['piano', 'orchestra'], nickname=None, piece_style='romantic', imslp_url=\"https://imslp.org/wiki/Variations_on_'L%C3%A0_ci_darem_la_mano'%2C_Op.2_(Chopin%2C_Fr%C3%A9d%C3%A9ric)\", wikipedia_url='http://en.wikipedia.org/wiki/Variations_on_%22L%C3%A0_ci_darem_la_mano%22_(Chopin)')\n",
      "Piece(work_name='Allegretto', composer_name='Chopin, Frédéric', catalogue_desc_str='WN 36', catalogue_type='WN', catalogue_number=36, catalogue_number_secondary=None, catalogue_id=None, composition_year=1829, composition_year_string='1829-31 ca.', key_signature='fsharp', movements=[], sub_piece_type='piece', sub_piece_count=1, instrumentation=['piano'], nickname=None, piece_style='romantic', imslp_url='https://imslp.org/wiki/Allegretto_in_F-sharp_major_(Chopin%2C_Fr%C3%A9d%C3%A9ric)', wikipedia_url=None)\n",
      "Piece(work_name='Moderato', composer_name='Chopin, Frédéric', catalogue_desc_str='B.151', catalogue_type='B', catalogue_number=151, catalogue_number_secondary=None, catalogue_id=None, composition_year=1843, composition_year_string='1843', key_signature='e', movements=[], sub_piece_type=None, sub_piece_count=None, instrumentation=['piano'], nickname='Album Leaf / Albumblatt', piece_style='romantic', imslp_url='https://imslp.org/wiki/Moderato_in_E_major%2C_B.151_(Chopin%2C_Fr%C3%A9d%C3%A9ric)', wikipedia_url=None)\n"
     ]
    }
   ],
   "source": [
    "composers = [\"Beethoven, Ludwig van\", \"Chopin, Frédéric\"]\n",
    "url = get_composer_url(composers[1])\n",
    "data = get_all_composer_pieces(url)\n",
    "pieces = []\n",
    "for piece_url in data[:100]:\n",
    "    piece = create_piece(url=piece_url)\n",
    "    print(piece)\n",
    "    pieces.append(piece)\n"
   ]
  },
  {
   "cell_type": "code",
   "execution_count": 3,
   "metadata": {},
   "outputs": [
    {
     "name": "stdout",
     "output_type": "stream",
     "text": [
      "shape: (100, 18)\n",
      "┌───────────┬───────────┬───────────┬───────────┬───┬───────────┬───────────┬───────────┬──────────┐\n",
      "│ work_name ┆ composer_ ┆ catalogue ┆ catalogue ┆ … ┆ nickname  ┆ piece_sty ┆ imslp_url ┆ wikipedi │\n",
      "│ ---       ┆ name      ┆ _desc_str ┆ _type     ┆   ┆ ---       ┆ le        ┆ ---       ┆ a_url    │\n",
      "│ str       ┆ ---       ┆ ---       ┆ ---       ┆   ┆ str       ┆ ---       ┆ str       ┆ ---      │\n",
      "│           ┆ str       ┆ str       ┆ str       ┆   ┆           ┆ str       ┆           ┆ str      │\n",
      "╞═══════════╪═══════════╪═══════════╪═══════════╪═══╪═══════════╪═══════════╪═══════════╪══════════╡\n",
      "│ Scherzo   ┆ Chopin,   ┆ Op.20     ┆ Op        ┆ … ┆ null      ┆ romantic  ┆ https://i ┆ http://e │\n",
      "│ No.1      ┆ Frédéric  ┆           ┆           ┆   ┆           ┆           ┆ mslp.org/ ┆ n.wikipe │\n",
      "│           ┆           ┆           ┆           ┆   ┆           ┆           ┆ wiki/Sche ┆ dia.org/ │\n",
      "│           ┆           ┆           ┆           ┆   ┆           ┆           ┆ rzo…      ┆ wiki/S…  │\n",
      "│ Variation ┆ Chopin,   ┆ B.14      ┆ B         ┆ … ┆ Introduct ┆ romantic  ┆ https://i ┆ null     │\n",
      "│ s sur un  ┆ Frédéric  ┆           ┆           ┆   ┆ ion and   ┆           ┆ mslp.org/ ┆          │\n",
      "│ air       ┆           ┆           ┆           ┆   ┆ Variation ┆           ┆ wiki/Vari ┆          │\n",
      "│ national… ┆           ┆           ┆           ┆   ┆ on …      ┆           ┆ ati…      ┆          │\n",
      "│ Rondo     ┆ Chopin,   ┆ Op.1      ┆ Op        ┆ … ┆ Adieu à   ┆ romantic  ┆ https://i ┆ http://e │\n",
      "│           ┆ Frédéric  ┆           ┆           ┆   ┆ Varsovie  ┆           ┆ mslp.org/ ┆ n.wikipe │\n",
      "│           ┆           ┆           ┆           ┆   ┆           ┆           ┆ wiki/Rond ┆ dia.org/ │\n",
      "│           ┆           ┆           ┆           ┆   ┆           ┆           ┆ o_i…      ┆ wiki/R…  │\n",
      "│ Polonaise ┆ Chopin,   ┆ Op.53     ┆ Op        ┆ … ┆ Héroique  ┆ romantic  ┆ https://i ┆ http://e │\n",
      "│           ┆ Frédéric  ┆           ┆           ┆   ┆ Polonaise ┆           ┆ mslp.org/ ┆ n.wikipe │\n",
      "│           ┆           ┆           ┆           ┆   ┆           ┆           ┆ wiki/Polo ┆ dia.org/ │\n",
      "│           ┆           ┆           ┆           ┆   ┆           ┆           ┆ nai…      ┆ wiki/P…  │\n",
      "│ Rondo     ┆ Chopin,   ┆ Op.73     ┆ Op        ┆ … ┆ null      ┆ romantic  ┆ https://i ┆ http://e │\n",
      "│           ┆ Frédéric  ┆           ┆           ┆   ┆           ┆           ┆ mslp.org/ ┆ n.wikipe │\n",
      "│           ┆           ┆           ┆           ┆   ┆           ┆           ┆ wiki/Rond ┆ dia.org/ │\n",
      "│           ┆           ┆           ┆           ┆   ┆           ┆           ┆ o_i…      ┆ wiki/R…  │\n",
      "│ …         ┆ …         ┆ …         ┆ …         ┆ … ┆ …         ┆ …         ┆ …         ┆ …        │\n",
      "│ Lieder    ┆ Chopin,   ┆ null      ┆ null      ┆ … ┆ null      ┆ romantic  ┆ https://i ┆ null     │\n",
      "│           ┆ Frédéric  ┆           ┆           ┆   ┆           ┆           ┆ mslp.org/ ┆          │\n",
      "│           ┆           ┆           ┆           ┆   ┆           ┆           ┆ wiki/Lied ┆          │\n",
      "│           ┆           ┆           ┆           ┆   ┆           ┆           ┆ er_…      ┆          │\n",
      "│ Polonaise ┆ Chopin,   ┆ Op.44     ┆ Op        ┆ … ┆ null      ┆ romantic  ┆ https://i ┆ http://e │\n",
      "│           ┆ Frédéric  ┆           ┆           ┆   ┆           ┆           ┆ mslp.org/ ┆ n.wikipe │\n",
      "│           ┆           ┆           ┆           ┆   ┆           ┆           ┆ wiki/Polo ┆ dia.org/ │\n",
      "│           ┆           ┆           ┆           ┆   ┆           ┆           ┆ nai…      ┆ wiki/P…  │\n",
      "│ Variation ┆ Chopin,   ┆ Op.2      ┆ Op        ┆ … ┆ null      ┆ romantic  ┆ https://i ┆ http://e │\n",
      "│ s on 'Là  ┆ Frédéric  ┆           ┆           ┆   ┆           ┆           ┆ mslp.org/ ┆ n.wikipe │\n",
      "│ ci darem  ┆           ┆           ┆           ┆   ┆           ┆           ┆ wiki/Vari ┆ dia.org/ │\n",
      "│ la …      ┆           ┆           ┆           ┆   ┆           ┆           ┆ ati…      ┆ wiki/V…  │\n",
      "│ Allegrett ┆ Chopin,   ┆ WN 36     ┆ WN        ┆ … ┆ null      ┆ romantic  ┆ https://i ┆ null     │\n",
      "│ o         ┆ Frédéric  ┆           ┆           ┆   ┆           ┆           ┆ mslp.org/ ┆          │\n",
      "│           ┆           ┆           ┆           ┆   ┆           ┆           ┆ wiki/Alle ┆          │\n",
      "│           ┆           ┆           ┆           ┆   ┆           ┆           ┆ gre…      ┆          │\n",
      "│ Moderato  ┆ Chopin,   ┆ B.151     ┆ B         ┆ … ┆ Album     ┆ romantic  ┆ https://i ┆ null     │\n",
      "│           ┆ Frédéric  ┆           ┆           ┆   ┆ Leaf /    ┆           ┆ mslp.org/ ┆          │\n",
      "│           ┆           ┆           ┆           ┆   ┆ Albumblat ┆           ┆ wiki/Mode ┆          │\n",
      "│           ┆           ┆           ┆           ┆   ┆ t         ┆           ┆ rat…      ┆          │\n",
      "└───────────┴───────────┴───────────┴───────────┴───┴───────────┴───────────┴───────────┴──────────┘\n"
     ]
    },
    {
     "data": {
      "text/html": [
       "<div><style>\n",
       ".dataframe > thead > tr,\n",
       ".dataframe > tbody > tr {\n",
       "  text-align: right;\n",
       "  white-space: pre-wrap;\n",
       "}\n",
       "</style>\n",
       "<small>shape: (100, 18)</small><table border=\"1\" class=\"dataframe\"><thead><tr><th>work_name</th><th>composer_name</th><th>catalogue_desc_str</th><th>catalogue_type</th><th>catalogue_number</th><th>catalogue_number_secondary</th><th>catalogue_id</th><th>composition_year</th><th>composition_year_string</th><th>key_signature</th><th>movements</th><th>sub_piece_type</th><th>sub_piece_count</th><th>instrumentation</th><th>nickname</th><th>piece_style</th><th>imslp_url</th><th>wikipedia_url</th></tr><tr><td>str</td><td>str</td><td>str</td><td>str</td><td>i64</td><td>i64</td><td>null</td><td>i64</td><td>str</td><td>str</td><td>str</td><td>str</td><td>i64</td><td>list[str]</td><td>str</td><td>str</td><td>str</td><td>str</td></tr></thead><tbody><tr><td>&quot;Scherzo&nbsp;No.1&quot;</td><td>&quot;Chopin,&nbsp;Frédéric&quot;</td><td>&quot;Op.20&quot;</td><td>&quot;Op&quot;</td><td>20</td><td>null</td><td>null</td><td>1833</td><td>&quot;1833&quot;</td><td>&quot;bminor&quot;</td><td>&quot;[]&quot;</td><td>null</td><td>null</td><td>[&quot;piano&quot;]</td><td>null</td><td>&quot;romantic&quot;</td><td>&quot;https://imslp.org/wiki/Scherzo…</td><td>&quot;http://en.wikipedia.org/wiki/S…</td></tr><tr><td>&quot;Variations&nbsp;sur&nbsp;un&nbsp;air&nbsp;national…</td><td>&quot;Chopin,&nbsp;Frédéric&quot;</td><td>&quot;B.14&quot;</td><td>&quot;B&quot;</td><td>14</td><td>null</td><td>null</td><td>1826</td><td>&quot;1826-27&quot;</td><td>&quot;e&quot;</td><td>&quot;[]&quot;</td><td>null</td><td>null</td><td>[&quot;piano&quot;]</td><td>&quot;Introduction&nbsp;and&nbsp;Variation&nbsp;on&nbsp;…</td><td>&quot;romantic&quot;</td><td>&quot;https://imslp.org/wiki/Variati…</td><td>null</td></tr><tr><td>&quot;Rondo&quot;</td><td>&quot;Chopin,&nbsp;Frédéric&quot;</td><td>&quot;Op.1&quot;</td><td>&quot;Op&quot;</td><td>1</td><td>null</td><td>null</td><td>1825</td><td>&quot;1825&quot;</td><td>&quot;cminor&quot;</td><td>&quot;[]&quot;</td><td>null</td><td>null</td><td>[&quot;piano&quot;]</td><td>&quot;Adieu&nbsp;à&nbsp;Varsovie&quot;</td><td>&quot;romantic&quot;</td><td>&quot;https://imslp.org/wiki/Rondo_i…</td><td>&quot;http://en.wikipedia.org/wiki/R…</td></tr><tr><td>&quot;Polonaise&quot;</td><td>&quot;Chopin,&nbsp;Frédéric&quot;</td><td>&quot;Op.53&quot;</td><td>&quot;Op&quot;</td><td>53</td><td>null</td><td>null</td><td>1842</td><td>&quot;1842&quot;</td><td>&quot;aflat&quot;</td><td>&quot;[]&quot;</td><td>null</td><td>null</td><td>[&quot;piano&quot;]</td><td>&quot;Héroique&nbsp;Polonaise&quot;</td><td>&quot;romantic&quot;</td><td>&quot;https://imslp.org/wiki/Polonai…</td><td>&quot;http://en.wikipedia.org/wiki/P…</td></tr><tr><td>&quot;Rondo&quot;</td><td>&quot;Chopin,&nbsp;Frédéric&quot;</td><td>&quot;Op.73&quot;</td><td>&quot;Op&quot;</td><td>73</td><td>null</td><td>null</td><td>1828</td><td>&quot;1828&quot;</td><td>&quot;c&quot;</td><td>&quot;[]&quot;</td><td>null</td><td>null</td><td>[&quot;2&nbsp;pianos&quot;]</td><td>null</td><td>&quot;romantic&quot;</td><td>&quot;https://imslp.org/wiki/Rondo_i…</td><td>&quot;http://en.wikipedia.org/wiki/R…</td></tr><tr><td>&hellip;</td><td>&hellip;</td><td>&hellip;</td><td>&hellip;</td><td>&hellip;</td><td>&hellip;</td><td>&hellip;</td><td>&hellip;</td><td>&hellip;</td><td>&hellip;</td><td>&hellip;</td><td>&hellip;</td><td>&hellip;</td><td>&hellip;</td><td>&hellip;</td><td>&hellip;</td><td>&hellip;</td><td>&hellip;</td></tr><tr><td>&quot;Lieder&quot;</td><td>&quot;Chopin,&nbsp;Frédéric&quot;</td><td>null</td><td>null</td><td>null</td><td>null</td><td>null</td><td>null</td><td>null</td><td>null</td><td>&quot;[]&quot;</td><td>null</td><td>null</td><td>[&quot;voice&quot;,&nbsp;&quot;piano&quot;]</td><td>null</td><td>&quot;romantic&quot;</td><td>&quot;https://imslp.org/wiki/Lieder_…</td><td>null</td></tr><tr><td>&quot;Polonaise&quot;</td><td>&quot;Chopin,&nbsp;Frédéric&quot;</td><td>&quot;Op.44&quot;</td><td>&quot;Op&quot;</td><td>44</td><td>null</td><td>null</td><td>1841</td><td>&quot;1841&quot;</td><td>&quot;fsharpminor&quot;</td><td>&quot;[]&quot;</td><td>null</td><td>null</td><td>[&quot;piano&quot;]</td><td>null</td><td>&quot;romantic&quot;</td><td>&quot;https://imslp.org/wiki/Polonai…</td><td>&quot;http://en.wikipedia.org/wiki/P…</td></tr><tr><td>&quot;Variations&nbsp;on&nbsp;&#x27;Là&nbsp;ci&nbsp;darem&nbsp;la&nbsp;…</td><td>&quot;Chopin,&nbsp;Frédéric&quot;</td><td>&quot;Op.2&quot;</td><td>&quot;Op&quot;</td><td>2</td><td>null</td><td>null</td><td>1827</td><td>&quot;1827&quot;</td><td>&quot;bflat&quot;</td><td>&quot;[{&quot;title&quot;:&nbsp;&quot;Introduction.&nbsp;Larg…</td><td>&quot;sections&quot;</td><td>7</td><td>[&quot;piano&quot;,&nbsp;&quot;orchestra&quot;]</td><td>null</td><td>&quot;romantic&quot;</td><td>&quot;https://imslp.org/wiki/Variati…</td><td>&quot;http://en.wikipedia.org/wiki/V…</td></tr><tr><td>&quot;Allegretto&quot;</td><td>&quot;Chopin,&nbsp;Frédéric&quot;</td><td>&quot;WN&nbsp;36&quot;</td><td>&quot;WN&quot;</td><td>36</td><td>null</td><td>null</td><td>1829</td><td>&quot;1829-31&nbsp;ca.&quot;</td><td>&quot;fsharp&quot;</td><td>&quot;[]&quot;</td><td>&quot;piece&quot;</td><td>1</td><td>[&quot;piano&quot;]</td><td>null</td><td>&quot;romantic&quot;</td><td>&quot;https://imslp.org/wiki/Allegre…</td><td>null</td></tr><tr><td>&quot;Moderato&quot;</td><td>&quot;Chopin,&nbsp;Frédéric&quot;</td><td>&quot;B.151&quot;</td><td>&quot;B&quot;</td><td>151</td><td>null</td><td>null</td><td>1843</td><td>&quot;1843&quot;</td><td>&quot;e&quot;</td><td>&quot;[]&quot;</td><td>null</td><td>null</td><td>[&quot;piano&quot;]</td><td>&quot;Album&nbsp;Leaf&nbsp;/&nbsp;Albumblatt&quot;</td><td>&quot;romantic&quot;</td><td>&quot;https://imslp.org/wiki/Moderat…</td><td>null</td></tr></tbody></table></div>"
      ],
      "text/plain": [
       "shape: (100, 18)\n",
       "┌───────────┬───────────┬───────────┬───────────┬───┬───────────┬───────────┬───────────┬──────────┐\n",
       "│ work_name ┆ composer_ ┆ catalogue ┆ catalogue ┆ … ┆ nickname  ┆ piece_sty ┆ imslp_url ┆ wikipedi │\n",
       "│ ---       ┆ name      ┆ _desc_str ┆ _type     ┆   ┆ ---       ┆ le        ┆ ---       ┆ a_url    │\n",
       "│ str       ┆ ---       ┆ ---       ┆ ---       ┆   ┆ str       ┆ ---       ┆ str       ┆ ---      │\n",
       "│           ┆ str       ┆ str       ┆ str       ┆   ┆           ┆ str       ┆           ┆ str      │\n",
       "╞═══════════╪═══════════╪═══════════╪═══════════╪═══╪═══════════╪═══════════╪═══════════╪══════════╡\n",
       "│ Scherzo   ┆ Chopin,   ┆ Op.20     ┆ Op        ┆ … ┆ null      ┆ romantic  ┆ https://i ┆ http://e │\n",
       "│ No.1      ┆ Frédéric  ┆           ┆           ┆   ┆           ┆           ┆ mslp.org/ ┆ n.wikipe │\n",
       "│           ┆           ┆           ┆           ┆   ┆           ┆           ┆ wiki/Sche ┆ dia.org/ │\n",
       "│           ┆           ┆           ┆           ┆   ┆           ┆           ┆ rzo…      ┆ wiki/S…  │\n",
       "│ Variation ┆ Chopin,   ┆ B.14      ┆ B         ┆ … ┆ Introduct ┆ romantic  ┆ https://i ┆ null     │\n",
       "│ s sur un  ┆ Frédéric  ┆           ┆           ┆   ┆ ion and   ┆           ┆ mslp.org/ ┆          │\n",
       "│ air       ┆           ┆           ┆           ┆   ┆ Variation ┆           ┆ wiki/Vari ┆          │\n",
       "│ national… ┆           ┆           ┆           ┆   ┆ on …      ┆           ┆ ati…      ┆          │\n",
       "│ Rondo     ┆ Chopin,   ┆ Op.1      ┆ Op        ┆ … ┆ Adieu à   ┆ romantic  ┆ https://i ┆ http://e │\n",
       "│           ┆ Frédéric  ┆           ┆           ┆   ┆ Varsovie  ┆           ┆ mslp.org/ ┆ n.wikipe │\n",
       "│           ┆           ┆           ┆           ┆   ┆           ┆           ┆ wiki/Rond ┆ dia.org/ │\n",
       "│           ┆           ┆           ┆           ┆   ┆           ┆           ┆ o_i…      ┆ wiki/R…  │\n",
       "│ Polonaise ┆ Chopin,   ┆ Op.53     ┆ Op        ┆ … ┆ Héroique  ┆ romantic  ┆ https://i ┆ http://e │\n",
       "│           ┆ Frédéric  ┆           ┆           ┆   ┆ Polonaise ┆           ┆ mslp.org/ ┆ n.wikipe │\n",
       "│           ┆           ┆           ┆           ┆   ┆           ┆           ┆ wiki/Polo ┆ dia.org/ │\n",
       "│           ┆           ┆           ┆           ┆   ┆           ┆           ┆ nai…      ┆ wiki/P…  │\n",
       "│ Rondo     ┆ Chopin,   ┆ Op.73     ┆ Op        ┆ … ┆ null      ┆ romantic  ┆ https://i ┆ http://e │\n",
       "│           ┆ Frédéric  ┆           ┆           ┆   ┆           ┆           ┆ mslp.org/ ┆ n.wikipe │\n",
       "│           ┆           ┆           ┆           ┆   ┆           ┆           ┆ wiki/Rond ┆ dia.org/ │\n",
       "│           ┆           ┆           ┆           ┆   ┆           ┆           ┆ o_i…      ┆ wiki/R…  │\n",
       "│ …         ┆ …         ┆ …         ┆ …         ┆ … ┆ …         ┆ …         ┆ …         ┆ …        │\n",
       "│ Lieder    ┆ Chopin,   ┆ null      ┆ null      ┆ … ┆ null      ┆ romantic  ┆ https://i ┆ null     │\n",
       "│           ┆ Frédéric  ┆           ┆           ┆   ┆           ┆           ┆ mslp.org/ ┆          │\n",
       "│           ┆           ┆           ┆           ┆   ┆           ┆           ┆ wiki/Lied ┆          │\n",
       "│           ┆           ┆           ┆           ┆   ┆           ┆           ┆ er_…      ┆          │\n",
       "│ Polonaise ┆ Chopin,   ┆ Op.44     ┆ Op        ┆ … ┆ null      ┆ romantic  ┆ https://i ┆ http://e │\n",
       "│           ┆ Frédéric  ┆           ┆           ┆   ┆           ┆           ┆ mslp.org/ ┆ n.wikipe │\n",
       "│           ┆           ┆           ┆           ┆   ┆           ┆           ┆ wiki/Polo ┆ dia.org/ │\n",
       "│           ┆           ┆           ┆           ┆   ┆           ┆           ┆ nai…      ┆ wiki/P…  │\n",
       "│ Variation ┆ Chopin,   ┆ Op.2      ┆ Op        ┆ … ┆ null      ┆ romantic  ┆ https://i ┆ http://e │\n",
       "│ s on 'Là  ┆ Frédéric  ┆           ┆           ┆   ┆           ┆           ┆ mslp.org/ ┆ n.wikipe │\n",
       "│ ci darem  ┆           ┆           ┆           ┆   ┆           ┆           ┆ wiki/Vari ┆ dia.org/ │\n",
       "│ la …      ┆           ┆           ┆           ┆   ┆           ┆           ┆ ati…      ┆ wiki/V…  │\n",
       "│ Allegrett ┆ Chopin,   ┆ WN 36     ┆ WN        ┆ … ┆ null      ┆ romantic  ┆ https://i ┆ null     │\n",
       "│ o         ┆ Frédéric  ┆           ┆           ┆   ┆           ┆           ┆ mslp.org/ ┆          │\n",
       "│           ┆           ┆           ┆           ┆   ┆           ┆           ┆ wiki/Alle ┆          │\n",
       "│           ┆           ┆           ┆           ┆   ┆           ┆           ┆ gre…      ┆          │\n",
       "│ Moderato  ┆ Chopin,   ┆ B.151     ┆ B         ┆ … ┆ Album     ┆ romantic  ┆ https://i ┆ null     │\n",
       "│           ┆ Frédéric  ┆           ┆           ┆   ┆ Leaf /    ┆           ┆ mslp.org/ ┆          │\n",
       "│           ┆           ┆           ┆           ┆   ┆ Albumblat ┆           ┆ wiki/Mode ┆          │\n",
       "│           ┆           ┆           ┆           ┆   ┆ t         ┆           ┆ rat…      ┆          │\n",
       "└───────────┴───────────┴───────────┴───────────┴───┴───────────┴───────────┴───────────┴──────────┘"
      ]
     },
     "execution_count": 3,
     "metadata": {},
     "output_type": "execute_result"
    }
   ],
   "source": [
    "pieces_dict = [piece_to_dict(piece) for piece in pieces] \n",
    "df = pl.DataFrame(pieces_dict, strict=False)\n",
    "print(df)\n",
    "df.head(100)"
   ]
  },
  {
   "cell_type": "code",
   "execution_count": 4,
   "metadata": {},
   "outputs": [
    {
     "name": "stderr",
     "output_type": "stream",
     "text": [
      "Summarize dataset:   0%|          | 0/5 [00:00<?, ?it/s]/Users/michaelbrandt/personal/PracticeLogger/data_ingest/.venv/lib/python3.12/site-packages/ydata_profiling/model/pandas/summary_pandas.py:39: FutureWarning: Downcasting object dtype arrays on .fillna, .ffill, .bfill is deprecated and will change in a future version. Call result.infer_objects(copy=False) instead. To opt-in to the future behavior, set `pd.set_option('future.no_silent_downcasting', True)`\n",
      "  series = series.fillna(np.nan)\n",
      "Summarize dataset: 100%|██████████| 37/37 [00:00<00:00, 52.99it/s, Completed]                                  \n",
      "Generate report structure: 100%|██████████| 1/1 [00:02<00:00,  2.32s/it]\n",
      "Render HTML: 100%|██████████| 1/1 [00:00<00:00,  4.57it/s]\n",
      "Export report to file: 100%|██████████| 1/1 [00:00<00:00, 463.00it/s]\n"
     ]
    }
   ],
   "source": [
    "profile = ProfileReport(df.to_pandas(), title=\"Pandas Profiling Report\")\n",
    "\n",
    "profile.to_file('data_summary.html')"
   ]
  }
 ],
 "metadata": {
  "kernelspec": {
   "display_name": ".venv",
   "language": "python",
   "name": "python3"
  },
  "language_info": {
   "codemirror_mode": {
    "name": "ipython",
    "version": 3
   },
   "file_extension": ".py",
   "mimetype": "text/x-python",
   "name": "python",
   "nbconvert_exporter": "python",
   "pygments_lexer": "ipython3",
   "version": "3.12.7"
  }
 },
 "nbformat": 4,
 "nbformat_minor": 2
}

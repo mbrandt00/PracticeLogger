{
 "cells": [
  {
   "cell_type": "code",
   "execution_count": 1,
   "metadata": {},
   "outputs": [],
   "source": [
    "from pieces import create_piece\n",
    "from imslp_scraping import get_all_composer_pieces\n",
    "import requests\n",
    "from bs4 import BeautifulSoup\n",
    "import polars as pl"
   ]
  },
  {
   "cell_type": "code",
   "execution_count": 2,
   "metadata": {},
   "outputs": [],
   "source": [
    "data = get_all_composer_pieces(\"https://imslp.org/wiki/Category:Beethoven,_Ludwig_van\")\n",
    "pieces = []\n",
    "for piece_url in data[:100]:\n",
    "    piece = create_piece(url = piece_url)\n",
    "    if piece.composer_name != \"Beethoven, Ludwig van\":\n",
    "        print(piece)\n",
    "        next\n",
    "    pieces.append(piece)"
   ]
  },
  {
   "cell_type": "code",
   "execution_count": 3,
   "metadata": {},
   "outputs": [
    {
     "data": {
      "text/plain": [
       "Piece(work_name='Piano Trio No.8', composer_name='Beethoven, Ludwig van', catalogue_desc_str='Op.38', catalogue_type='Op', catalogue_number=38, catalogue_id=None, composition_year=1803, composition_year_string='1803', key_signature='eflat', movements=[{'type': 'movement', 'number': 1, 'name': 'Adagio – Allegro con brio', 'key_signature': 'eflat', 'download_url': None}, {'type': 'movement', 'number': 2, 'name': 'Adagio cantabile', 'key_signature': 'aflat', 'download_url': None}, {'type': 'movement', 'number': 3, 'name': 'Tempo di Menuetto (E♭major, 28 bars) –Trio', 'key_signature': 'eflat', 'download_url': None}, {'type': 'movement', 'number': 4, 'name': 'Thema. Andante con Variazoni (B♭major, 16 bars) + 5 variations', 'key_signature': 'b', 'download_url': None}, {'type': 'movement', 'number': 5, 'name': 'Scherzo. Allegro molto e vivace (E♭major, 80 bars) –Trio', 'key_signature': 'eflat', 'download_url': None}, {'type': 'movement', 'number': 6, 'name': 'Andante con moto alla Marcia – Presto', 'key_signature': 'eflat', 'download_url': None}], instrumentation=['clarinet (or violin)', 'cello', 'piano'], nickname=None, piece_style='classical', imslp_url='https://imslp.org/wiki/Trio_in_E-flat_major%2C_Op.38_(Beethoven%2C_Ludwig_van)', wikipedia_url=None)"
      ]
     },
     "execution_count": 3,
     "metadata": {},
     "output_type": "execute_result"
    }
   ],
   "source": [
    "len(pieces)\n",
    "pieces[0]"
   ]
  },
  {
   "cell_type": "code",
   "execution_count": 7,
   "metadata": {},
   "outputs": [
    {
     "data": {
      "text/html": [
       "<div><style>\n",
       ".dataframe > thead > tr,\n",
       ".dataframe > tbody > tr {\n",
       "  text-align: right;\n",
       "  white-space: pre-wrap;\n",
       "}\n",
       "</style>\n",
       "<small>shape: (2, 1)</small><table border=\"1\" class=\"dataframe\"><thead><tr><th>imslp_url</th></tr><tr><td>str</td></tr></thead><tbody><tr><td>&quot;https://imslp.org/wiki/Violin_Sonata_No.1%2C_Op.12_No.1_(Beethoven%2C_Ludwig_van)&quot;</td></tr><tr><td>&quot;https://imslp.org/wiki/Violin_Sonata_No.2%2C_Op.12_No.2_(Beethoven%2C_Ludwig_van)&quot;</td></tr></tbody></table></div>"
      ],
      "text/plain": [
       "shape: (2, 1)\n",
       "┌───────────────────────────────────────────────────────────────────────────────────┐\n",
       "│ imslp_url                                                                         │\n",
       "│ ---                                                                               │\n",
       "│ str                                                                               │\n",
       "╞═══════════════════════════════════════════════════════════════════════════════════╡\n",
       "│ https://imslp.org/wiki/Violin_Sonata_No.1%2C_Op.12_No.1_(Beethoven%2C_Ludwig_van) │\n",
       "│ https://imslp.org/wiki/Violin_Sonata_No.2%2C_Op.12_No.2_(Beethoven%2C_Ludwig_van) │\n",
       "└───────────────────────────────────────────────────────────────────────────────────┘"
      ]
     },
     "execution_count": 7,
     "metadata": {},
     "output_type": "execute_result"
    }
   ],
   "source": [
    "pl.Config.set_fmt_str_lengths(1000)\n",
    "df = pl.DataFrame(pieces)\n",
    "\n",
    "\n",
    "df.filter(pl.col(\"catalogue_number\") == 12).select(pl.col('imslp_url')).head()\n",
    "\n",
    "# duplicates.head(100)\n",
    "# movements_df = (\n",
    "#     df.explode(\"movements\")  # Explode the array into rows\n",
    "#     .select('movements', 'catalogue_type', 'catalogue_number', 'composer_name') \n",
    "#     .unnest(\"movements\")     # Unnest struct fields into separate columns\n",
    "#     # .with_column(pl.col(\"id\").alias(\"piece_id\"))  # Add a foreign key column\n",
    "# # )\n",
    "# )\n",
    "# movements_df.head(50)\n",
    "# exploded = df.explode('movements')\n",
    "# exploded.head(5)"
   ]
  }
 ],
 "metadata": {
  "kernelspec": {
   "display_name": ".venv",
   "language": "python",
   "name": "python3"
  },
  "language_info": {
   "codemirror_mode": {
    "name": "ipython",
    "version": 3
   },
   "file_extension": ".py",
   "mimetype": "text/x-python",
   "name": "python",
   "nbconvert_exporter": "python",
   "pygments_lexer": "ipython3",
   "version": "3.12.7"
  }
 },
 "nbformat": 4,
 "nbformat_minor": 2
}
